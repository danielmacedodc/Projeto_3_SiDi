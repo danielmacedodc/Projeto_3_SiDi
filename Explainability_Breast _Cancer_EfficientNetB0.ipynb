{
 "cells": [
  {
   "cell_type": "markdown",
   "id": "3f85ff48",
   "metadata": {},
   "source": [
    "# **Breast Cancer - Comparative Analysis (Explainability with GradCAM) - EfficientNetB0**\n",
    "\n",
    "Dataset (Train and Validation) link: https://web.inf.ufpr.br/vri/databases/breast-cancer-histopathological-database-breakhis/\n",
    "\n",
    "Annotated Dataset (Test) link: https://figshare.com/articles/dataset/BreCaHAD_A_Dataset_for_Breast_Cancer_Histopathological_Annotation_and_Diagnosis/7379186?file=13646369\n",
    "\n",
    "Note: The test set only contains malignant class images.\n",
    "\n",
    "The following project will focus on finding the architecture (used with GradCAM) with the best explainability efficiency. The proposed architectures for this experiment are:\n",
    "* EfficientNetB0\n",
    "* VisionTrasformer\n",
    "* DenseNet201\n",
    "* NasNetLarge\n",
    "* MobileNetV3Large\n",
    "\n",
    "This notebook represents one of the five which will run experiments with images where the Visual Magnification factor is 400x - EfficientNetB0.   "
   ]
  },
  {
   "cell_type": "code",
   "execution_count": 2,
   "id": "7623967f",
   "metadata": {},
   "outputs": [],
   "source": [
    "import numpy as np\n",
    "import pandas as pd\n",
    "import seaborn as sns\n",
    "import matplotlib.pyplot as plt\n",
    "import json\n",
    "\n",
    "import os\n",
    "import random\n",
    "from random import random, randint, seed\n",
    "import pickle\n",
    "import pathlib\n",
    "import warnings\n",
    "import platform\n",
    "\n",
    "import cv2\n",
    "import tensorflow as tf\n",
    "from tensorflow import keras\n",
    "import tensorflow.keras.backend as K\n",
    "from tensorflow.keras.applications import densenet, MobileNetV3Large, efficientnet, nasnet\n",
    "from tensorflow.keras.optimizers import SGD, Adam\n",
    "from tensorflow.keras import layers\n",
    "from tensorflow.keras.models import Model\n",
    "from tensorflow.keras.layers import Input\n",
    "from tensorflow.keras.layers import Conv2D\n",
    "from tensorflow.keras.layers import Dense\n",
    "from tensorflow.keras.layers import Dropout\n",
    "from tensorflow.keras.layers import GlobalAveragePooling2D\n",
    "from tensorflow.keras.layers import BatchNormalization\n",
    "from tensorflow.keras.layers import MaxPooling2D\n",
    "from tensorflow.keras.layers import Lambda\n",
    "from tensorflow.keras.models import load_model\n",
    "from tensorflow.keras import Sequential\n",
    "from tensorflow.keras.preprocessing.image import ImageDataGenerator\n",
    "from sklearn.metrics import classification_report, confusion_matrix"
   ]
  },
  {
   "cell_type": "code",
   "execution_count": 2,
   "id": "30a7ac59",
   "metadata": {},
   "outputs": [
    {
     "name": "stdout",
     "output_type": "stream",
     "text": [
      "Python- Versão:  3.8.13\n",
      "TensorFLow - Versão:  2.9.1\n",
      "Dispositivo GPU padrão: /device:GPU:0\n",
      "Número de GPUs Disponíveis:  1\n"
     ]
    }
   ],
   "source": [
    "print(\"Python- Versão: \", platform.python_version())\n",
    "print(\"TensorFLow - Versão: \",tf.__version__)\n",
    "\n",
    "# Checar GPUs\n",
    "if not tf.test.gpu_device_name():\n",
    "    warnings.warn('GPU não encontrada.')\n",
    "else:\n",
    "    print(f'Dispositivo GPU padrão: {tf.test.gpu_device_name()}')\n",
    "    print(\"Número de GPUs Disponíveis: \", len(tf.config.list_physical_devices('GPU')))\n"
   ]
  },
  {
   "cell_type": "code",
   "execution_count": 3,
   "id": "b2b164b9",
   "metadata": {},
   "outputs": [
    {
     "name": "stdout",
     "output_type": "stream",
     "text": [
      "Existem 1037 imagens em  SiDi_BreakHis400x_train_val/Dataset\\train_set\\benign.\n",
      "Existem 1037 imagens em  SiDi_BreakHis400x_train_val/Dataset\\train_set\\malignant.\n",
      "Existem 180 imagens em  SiDi_BreakHis400x_train_val/Dataset\\validation_set\\benign.\n",
      "Existem 180 imagens em  SiDi_BreakHis400x_train_val/Dataset\\validation_set\\malignant.\n"
     ]
    }
   ],
   "source": [
    "for dirpath, dirnames, filenames in os.walk('SiDi_BreakHis400x_train_val/Dataset'):\n",
    "    if len(filenames)!=0:\n",
    "        print(f'Existem {len(filenames)} imagens em  {dirpath}.')\n"
   ]
  },
  {
   "cell_type": "code",
   "execution_count": 4,
   "id": "b9ebe3fe",
   "metadata": {},
   "outputs": [],
   "source": [
    "train_dir = 'SiDi_BreakHis400x_train_val/Dataset/train_set/'\n",
    "val_dir = 'SiDi_BreakHis400x_train_val/Dataset/validation_set/'\n",
    "test_dir = 'SiDi_BreCaHAD_test/dataset'\n",
    "\n",
    "# Especificações para o treinamento da rede\n",
    "IMG_SHAPE = (224, 224, 3)\n",
    "IMG_SIZE = (224, 224)\n",
    "BATCH_SIZE = 32\n",
    "EPOCHS = 100"
   ]
  },
  {
   "cell_type": "code",
   "execution_count": 5,
   "id": "5342249e",
   "metadata": {},
   "outputs": [
    {
     "name": "stdout",
     "output_type": "stream",
     "text": [
      "Found 2074 images belonging to 2 classes.\n",
      "Found 360 images belonging to 2 classes.\n",
      "Found 159 images belonging to 2 classes.\n"
     ]
    }
   ],
   "source": [
    "train_datagen = ImageDataGenerator(rescale=None)\n",
    "valid_datagen = ImageDataGenerator(rescale=None)\n",
    "test_datagen = ImageDataGenerator(rescale=None)\n",
    "\n",
    "train_data = train_datagen.flow_from_directory(train_dir,\n",
    "                                               batch_size=BATCH_SIZE,  \n",
    "                                               target_size=(224, 224), \n",
    "                                               class_mode=\"binary\")\n",
    "\n",
    "val_data = valid_datagen.flow_from_directory(val_dir,\n",
    "                                               batch_size=BATCH_SIZE,  \n",
    "                                               target_size=(224, 224), \n",
    "                                               class_mode=\"binary\")\n",
    "\n",
    "test_data = test_datagen.flow_from_directory(test_dir,\n",
    "                                               batch_size=BATCH_SIZE,  \n",
    "                                               target_size=(224, 224), \n",
    "                                               class_mode=\"binary\")"
   ]
  },
  {
   "cell_type": "code",
   "execution_count": 6,
   "id": "760aac62",
   "metadata": {},
   "outputs": [
    {
     "data": {
      "text/plain": [
       "'train_data = tf.keras.preprocessing.image_dataset_from_directory(directory=train_dir, image_size=IMG_SIZE, \\n                                                                 batch_size=BATCH_SIZE, label_mode=\"categorical\")\\n\\nval_data = tf.keras.preprocessing.image_dataset_from_directory(directory=val_dir, image_size=IMG_SIZE, \\n                                                                 batch_size=BATCH_SIZE, label_mode=\"categorical\")\\n\\ntest_data = tf.keras.preprocessing.image_dataset_from_directory(directory=test_dir, image_size=IMG_SIZE, \\n                                                                 batch_size=BATCH_SIZE, label_mode=\"categorical\")'"
      ]
     },
     "execution_count": 6,
     "metadata": {},
     "output_type": "execute_result"
    }
   ],
   "source": [
    "'''train_data = tf.keras.preprocessing.image_dataset_from_directory(directory=train_dir, image_size=IMG_SIZE, \n",
    "                                                                 batch_size=BATCH_SIZE, label_mode=\"categorical\")\n",
    "\n",
    "val_data = tf.keras.preprocessing.image_dataset_from_directory(directory=val_dir, image_size=IMG_SIZE, \n",
    "                                                                 batch_size=BATCH_SIZE, label_mode=\"categorical\")\n",
    "\n",
    "test_data = tf.keras.preprocessing.image_dataset_from_directory(directory=test_dir, image_size=IMG_SIZE, \n",
    "                                                                 batch_size=BATCH_SIZE, label_mode=\"categorical\")'''"
   ]
  },
  {
   "cell_type": "code",
   "execution_count": 7,
   "id": "e9e4ef89",
   "metadata": {},
   "outputs": [],
   "source": [
    " # include_top=False retira a camada do topo, ou seja, a camada densa do modelo original\n",
    "basemodel = efficientnet.EfficientNetB0(include_top=False,\n",
    "                                                 weights='imagenet',\n",
    "                                                 input_shape=IMG_SHAPE,\n",
    "                                                 pooling='max')\n",
    "# Note que a última camada de convolução termina com a operação de GlobalMaxPooling2D(dependendo do modelo poderia ser a Flatten)\n",
    "# Note a variável pooling='max'.\n",
    "# Assim, podemos adicionar a saída do baseModel diretamente na camada densa\n",
    "# basemodel.summary()"
   ]
  },
  {
   "cell_type": "code",
   "execution_count": 8,
   "id": "5a41b261",
   "metadata": {},
   "outputs": [],
   "source": [
    "# Criar a arquitetura da camada densa do modelo para o Fine Tuning\n",
    "inputs = Input(shape=IMG_SHAPE)\n",
    "\n",
    "x = tf.cast(inputs, tf.float32)\n",
    "x = tf.keras.applications.efficientnet.preprocess_input(x)\n",
    "\n",
    "x = basemodel(x)\n",
    "\n",
    "x = Dense(256, activation=\"relu\")(x)\n",
    "x = Dropout(0.2)(x)\n",
    "\n",
    "x = BatchNormalization()(x)\n",
    "x = Dense(128, activation=\"relu\")(x)\n",
    "x = Dropout(0.2)(x)\n",
    "\n",
    "x = BatchNormalization()(x)\n",
    "x = Dense(64, activation=\"relu\")(x)\n",
    "x = Dropout(0.2)(x)\n",
    "\n",
    "x = BatchNormalization()(x)\n",
    "x = Dense(32, activation=\"relu\")(x)\n",
    "x = Dropout(0.2)(x)\n",
    "\n",
    "\n",
    "outputs = Dense(1, activation=\"sigmoid\")(x)\n",
    "\n",
    "model = Model(inputs, outputs)"
   ]
  },
  {
   "cell_type": "code",
   "execution_count": 9,
   "id": "dd431555",
   "metadata": {},
   "outputs": [
    {
     "name": "stdout",
     "output_type": "stream",
     "text": [
      "Model: \"model\"\n",
      "_________________________________________________________________\n",
      " Layer (type)                Output Shape              Param #   \n",
      "=================================================================\n",
      " input_2 (InputLayer)        [(None, 224, 224, 3)]     0         \n",
      "                                                                 \n",
      " tf.cast (TFOpLambda)        (None, 224, 224, 3)       0         \n",
      "                                                                 \n",
      " efficientnetb0 (Functional)  (None, 1280)             4049571   \n",
      "                                                                 \n",
      " dense (Dense)               (None, 256)               327936    \n",
      "                                                                 \n",
      " dropout (Dropout)           (None, 256)               0         \n",
      "                                                                 \n",
      " batch_normalization (BatchN  (None, 256)              1024      \n",
      " ormalization)                                                   \n",
      "                                                                 \n",
      " dense_1 (Dense)             (None, 128)               32896     \n",
      "                                                                 \n",
      " dropout_1 (Dropout)         (None, 128)               0         \n",
      "                                                                 \n",
      " batch_normalization_1 (Batc  (None, 128)              512       \n",
      " hNormalization)                                                 \n",
      "                                                                 \n",
      " dense_2 (Dense)             (None, 64)                8256      \n",
      "                                                                 \n",
      " dropout_2 (Dropout)         (None, 64)                0         \n",
      "                                                                 \n",
      " batch_normalization_2 (Batc  (None, 64)               256       \n",
      " hNormalization)                                                 \n",
      "                                                                 \n",
      " dense_3 (Dense)             (None, 32)                2080      \n",
      "                                                                 \n",
      " dropout_3 (Dropout)         (None, 32)                0         \n",
      "                                                                 \n",
      " dense_4 (Dense)             (None, 1)                 33        \n",
      "                                                                 \n",
      "=================================================================\n",
      "Total params: 4,422,564\n",
      "Trainable params: 4,379,645\n",
      "Non-trainable params: 42,919\n",
      "_________________________________________________________________\n"
     ]
    }
   ],
   "source": [
    "model.summary()"
   ]
  },
  {
   "cell_type": "markdown",
   "id": "a1268af2",
   "metadata": {},
   "source": [
    "## Fine Tuning - Fase 1 (warm up) -> treina apenas a camada densa"
   ]
  },
  {
   "cell_type": "code",
   "execution_count": 10,
   "id": "fa58a144",
   "metadata": {},
   "outputs": [],
   "source": [
    "# Congela as camadas do modelo base (as camadas de convolução não serão treinadas novamente)\n",
    "for layer in basemodel.layers:\n",
    "    layer.trainable = False  "
   ]
  },
  {
   "cell_type": "code",
   "execution_count": 11,
   "id": "e0bb1d43",
   "metadata": {},
   "outputs": [],
   "source": [
    "base_learning_rate = 0.0001\n",
    "opt = Adam(learning_rate=base_learning_rate)\n",
    "# binary -> binary_crossentropy; categorical -> categorical_crossentropy\n",
    "model.compile(loss=\"binary_crossentropy\", optimizer=opt, metrics=[\"accuracy\"]) "
   ]
  },
  {
   "cell_type": "code",
   "execution_count": 12,
   "id": "e3e112d2",
   "metadata": {},
   "outputs": [],
   "source": [
    "# Early Stopping do trinamento\n",
    "early_stop = keras.callbacks.EarlyStopping(\n",
    "    monitor = 'val_loss', \n",
    "    min_delta=0.001, \n",
    "    patience=7\n",
    ")\n",
    "\n",
    "model_ckpt = keras.callbacks.ModelCheckpoint(\n",
    "    filepath='callbacks/melhor_modelo_EfficientNetB0_ft.hdf5', \n",
    "    monitor='val_loss', \n",
    "    save_best_only=True\n",
    ")\n",
    "\n",
    "callbacks = [early_stop, model_ckpt]"
   ]
  },
  {
   "cell_type": "code",
   "execution_count": 13,
   "id": "274eb4d3",
   "metadata": {},
   "outputs": [
    {
     "name": "stdout",
     "output_type": "stream",
     "text": [
      "Epoch 1/40\n",
      "65/65 [==============================] - 43s 501ms/step - loss: 0.6747 - accuracy: 0.5969 - val_loss: 0.6614 - val_accuracy: 0.6389\n",
      "Epoch 2/40\n",
      "65/65 [==============================] - 27s 414ms/step - loss: 0.5309 - accuracy: 0.7122 - val_loss: 0.6341 - val_accuracy: 0.6500\n",
      "Epoch 3/40\n",
      "65/65 [==============================] - 27s 410ms/step - loss: 0.4880 - accuracy: 0.7527 - val_loss: 0.6203 - val_accuracy: 0.6611\n",
      "Epoch 4/40\n",
      "65/65 [==============================] - 27s 409ms/step - loss: 0.4375 - accuracy: 0.7787 - val_loss: 0.6218 - val_accuracy: 0.6389\n",
      "Epoch 5/40\n",
      "65/65 [==============================] - 26s 405ms/step - loss: 0.4124 - accuracy: 0.8062 - val_loss: 0.5882 - val_accuracy: 0.6778\n",
      "Epoch 6/40\n",
      "65/65 [==============================] - 27s 416ms/step - loss: 0.3873 - accuracy: 0.8168 - val_loss: 0.5711 - val_accuracy: 0.7083\n",
      "Epoch 7/40\n",
      "65/65 [==============================] - 27s 414ms/step - loss: 0.3531 - accuracy: 0.8443 - val_loss: 0.5603 - val_accuracy: 0.7250\n",
      "Epoch 8/40\n",
      "65/65 [==============================] - 27s 416ms/step - loss: 0.3404 - accuracy: 0.8529 - val_loss: 0.5202 - val_accuracy: 0.7500\n",
      "Epoch 9/40\n",
      "65/65 [==============================] - 27s 415ms/step - loss: 0.3405 - accuracy: 0.8462 - val_loss: 0.5022 - val_accuracy: 0.7500\n",
      "Epoch 10/40\n",
      "65/65 [==============================] - 27s 412ms/step - loss: 0.2974 - accuracy: 0.8703 - val_loss: 0.4799 - val_accuracy: 0.7694\n",
      "Epoch 11/40\n",
      "65/65 [==============================] - 27s 410ms/step - loss: 0.2959 - accuracy: 0.8722 - val_loss: 0.4948 - val_accuracy: 0.7583\n",
      "Epoch 12/40\n",
      "65/65 [==============================] - 27s 408ms/step - loss: 0.2855 - accuracy: 0.8679 - val_loss: 0.4474 - val_accuracy: 0.7917\n",
      "Epoch 13/40\n",
      "65/65 [==============================] - 27s 408ms/step - loss: 0.2767 - accuracy: 0.8857 - val_loss: 0.4468 - val_accuracy: 0.7944\n",
      "Epoch 14/40\n",
      "65/65 [==============================] - 26s 404ms/step - loss: 0.2642 - accuracy: 0.8852 - val_loss: 0.4651 - val_accuracy: 0.7833\n",
      "Epoch 15/40\n",
      "65/65 [==============================] - 26s 393ms/step - loss: 0.2381 - accuracy: 0.9007 - val_loss: 0.4478 - val_accuracy: 0.8111\n",
      "Epoch 16/40\n",
      "65/65 [==============================] - 26s 401ms/step - loss: 0.2489 - accuracy: 0.8934 - val_loss: 0.4352 - val_accuracy: 0.8056\n",
      "Epoch 17/40\n",
      "65/65 [==============================] - 26s 403ms/step - loss: 0.2331 - accuracy: 0.9016 - val_loss: 0.4278 - val_accuracy: 0.8167\n",
      "Epoch 18/40\n",
      "65/65 [==============================] - 26s 406ms/step - loss: 0.2267 - accuracy: 0.9108 - val_loss: 0.4516 - val_accuracy: 0.7972\n",
      "Epoch 19/40\n",
      "65/65 [==============================] - 26s 395ms/step - loss: 0.2217 - accuracy: 0.9031 - val_loss: 0.4332 - val_accuracy: 0.8056\n",
      "Epoch 20/40\n",
      "65/65 [==============================] - 26s 395ms/step - loss: 0.1920 - accuracy: 0.9229 - val_loss: 0.4556 - val_accuracy: 0.8056\n",
      "Epoch 21/40\n",
      "65/65 [==============================] - 26s 402ms/step - loss: 0.2016 - accuracy: 0.9185 - val_loss: 0.4018 - val_accuracy: 0.8306\n",
      "Epoch 22/40\n",
      "65/65 [==============================] - 26s 400ms/step - loss: 0.1840 - accuracy: 0.9315 - val_loss: 0.3868 - val_accuracy: 0.8417\n",
      "Epoch 23/40\n",
      "65/65 [==============================] - 26s 406ms/step - loss: 0.1942 - accuracy: 0.9253 - val_loss: 0.4700 - val_accuracy: 0.7889\n",
      "Epoch 24/40\n",
      "65/65 [==============================] - 25s 386ms/step - loss: 0.1831 - accuracy: 0.9229 - val_loss: 0.4652 - val_accuracy: 0.7861\n",
      "Epoch 25/40\n",
      "65/65 [==============================] - 24s 365ms/step - loss: 0.1753 - accuracy: 0.9282 - val_loss: 0.4077 - val_accuracy: 0.8333\n",
      "Epoch 26/40\n",
      "65/65 [==============================] - 24s 364ms/step - loss: 0.1489 - accuracy: 0.9412 - val_loss: 0.3959 - val_accuracy: 0.8361\n",
      "Epoch 27/40\n",
      "65/65 [==============================] - 24s 363ms/step - loss: 0.1497 - accuracy: 0.9460 - val_loss: 0.3768 - val_accuracy: 0.8528\n",
      "Epoch 28/40\n",
      "65/65 [==============================] - 23s 355ms/step - loss: 0.1411 - accuracy: 0.9508 - val_loss: 0.3778 - val_accuracy: 0.8417\n",
      "Epoch 29/40\n",
      "65/65 [==============================] - 24s 362ms/step - loss: 0.1579 - accuracy: 0.9364 - val_loss: 0.3980 - val_accuracy: 0.8444\n",
      "Epoch 30/40\n",
      "65/65 [==============================] - 24s 363ms/step - loss: 0.1398 - accuracy: 0.9470 - val_loss: 0.4530 - val_accuracy: 0.8139\n",
      "Epoch 31/40\n",
      "65/65 [==============================] - 24s 367ms/step - loss: 0.1409 - accuracy: 0.9474 - val_loss: 0.3983 - val_accuracy: 0.8361\n",
      "Epoch 32/40\n",
      "65/65 [==============================] - 24s 363ms/step - loss: 0.1324 - accuracy: 0.9518 - val_loss: 0.3993 - val_accuracy: 0.8444\n",
      "Epoch 33/40\n",
      "65/65 [==============================] - 23s 355ms/step - loss: 0.1152 - accuracy: 0.9595 - val_loss: 0.4501 - val_accuracy: 0.8444\n",
      "Epoch 34/40\n",
      "65/65 [==============================] - 23s 359ms/step - loss: 0.1222 - accuracy: 0.9503 - val_loss: 0.4149 - val_accuracy: 0.8500\n"
     ]
    }
   ],
   "source": [
    "# Fase 1 - treina apenas com algumas épocas (40% do total)\n",
    "initial_epochs = int(EPOCHS*0.4)\n",
    "history = model.fit(train_data,\n",
    "                    epochs=initial_epochs,\n",
    "                    steps_per_epoch=len(train_data),\n",
    "                    validation_data=val_data,\n",
    "                    validation_steps=len(val_data), \n",
    "                    callbacks=callbacks)"
   ]
  },
  {
   "cell_type": "code",
   "execution_count": 14,
   "id": "28fb10bc",
   "metadata": {},
   "outputs": [
    {
     "data": {
      "image/png": "[encoded data removed]",
      "text/plain": [
       "<Figure size 576x576 with 2 Axes>"
      ]
     },
     "metadata": {
      "needs_background": "light"
     },
     "output_type": "display_data"
    }
   ],
   "source": [
    "acc = history.history['accuracy']\n",
    "val_acc = history.history['val_accuracy']\n",
    "\n",
    "loss = history.history['loss']\n",
    "val_loss = history.history['val_loss']\n",
    "\n",
    "plt.figure(figsize=(8, 8))\n",
    "plt.subplot(2, 1, 1)\n",
    "plt.plot(acc, label='Training Accuracy')\n",
    "plt.plot(val_acc, label='Validation Accuracy')\n",
    "plt.legend(loc='lower right')\n",
    "plt.ylabel('Accuracy')\n",
    "plt.ylim([min(plt.ylim()),1])\n",
    "plt.title('Training and Validation Accuracy')\n",
    "\n",
    "plt.subplot(2, 1, 2)\n",
    "plt.plot(loss, label='Training Loss')\n",
    "plt.plot(val_loss, label='Validation Loss')\n",
    "plt.legend(loc='upper right')\n",
    "plt.ylabel('Cross Entropy')\n",
    "plt.ylim([0,1.0])\n",
    "plt.title('Training and Validation Loss')\n",
    "plt.xlabel('epoch')\n",
    "plt.show()"
   ]
  },
  {
   "cell_type": "markdown",
   "id": "9db89e4d",
   "metadata": {},
   "source": [
    "## Fine Tuning - Fase 2 -> treina todo o modelo do fine tuning - descongela as camadas de convolução"
   ]
  },
  {
   "cell_type": "code",
   "execution_count": 15,
   "id": "ec494850",
   "metadata": {},
   "outputs": [
    {
     "name": "stdout",
     "output_type": "stream",
     "text": [
      "Número de camadas do modelo base:  239\n"
     ]
    }
   ],
   "source": [
    "print(\"Número de camadas do modelo base: \", len(basemodel.layers))"
   ]
  },
  {
   "cell_type": "code",
   "execution_count": 16,
   "id": "a0301315",
   "metadata": {},
   "outputs": [],
   "source": [
    "# Descongelar as 30% camadas finais e que não seja do tipo BatchNormalization do modelo base\n",
    "# Note que vpcê pode adicionar mais camadas se o modelo não for muito grande\n",
    "count = 0\n",
    "for layer in basemodel.layers[-int(len(basemodel.layers)*0.3):]:\n",
    "    if not isinstance(layer, layers.BatchNormalization):\n",
    "        layer.trainable = True"
   ]
  },
  {
   "cell_type": "code",
   "execution_count": 17,
   "id": "ba855c0d",
   "metadata": {},
   "outputs": [],
   "source": [
    "# É necessário diminuir a base_learning_rate para que o modelo não tenha convergência muito rápida\n",
    "# pois se trata d eum modelo grande\n",
    "opt = Adam(learning_rate=base_learning_rate/10)\n",
    "model.compile(loss=\"binary_crossentropy\", optimizer=opt, metrics=[\"accuracy\"])"
   ]
  },
  {
   "cell_type": "code",
   "execution_count": 18,
   "id": "50ad7d61",
   "metadata": {},
   "outputs": [],
   "source": [
    "# EarlyStopping do trinamento\n",
    "early_stop2 = keras.callbacks.EarlyStopping(\n",
    "    monitor = 'val_loss', \n",
    "    min_delta=0.001, \n",
    "    patience=7\n",
    ")\n",
    "\n",
    "model_ckpt2 = keras.callbacks.ModelCheckpoint(\n",
    "    filepath='callbacks/melhor_modelo_EfficientNetB0_ft.hdf5', \n",
    "    monitor='val_loss', \n",
    "    save_best_only=True\n",
    ")\n",
    "\n",
    "callbacks2 = [early_stop2, model_ckpt2]"
   ]
  },
  {
   "cell_type": "code",
   "execution_count": 19,
   "id": "788b3350",
   "metadata": {},
   "outputs": [
    {
     "name": "stdout",
     "output_type": "stream",
     "text": [
      "Epoch 34/100\n",
      "65/65 [==============================] - 31s 383ms/step - loss: 0.1239 - accuracy: 0.9532 - val_loss: 0.3995 - val_accuracy: 0.8611\n",
      "Epoch 35/100\n",
      "65/65 [==============================] - 25s 379ms/step - loss: 0.1021 - accuracy: 0.9638 - val_loss: 0.3906 - val_accuracy: 0.8556\n",
      "Epoch 36/100\n",
      "65/65 [==============================] - 26s 393ms/step - loss: 0.1072 - accuracy: 0.9552 - val_loss: 0.3865 - val_accuracy: 0.8556\n",
      "Epoch 37/100\n",
      "65/65 [==============================] - 25s 378ms/step - loss: 0.0954 - accuracy: 0.9648 - val_loss: 0.4198 - val_accuracy: 0.8583\n",
      "Epoch 38/100\n",
      "65/65 [==============================] - 24s 365ms/step - loss: 0.0942 - accuracy: 0.9605 - val_loss: 0.3939 - val_accuracy: 0.8667\n",
      "Epoch 39/100\n",
      "65/65 [==============================] - 24s 364ms/step - loss: 0.0952 - accuracy: 0.9672 - val_loss: 0.3786 - val_accuracy: 0.8667\n",
      "Epoch 40/100\n",
      "65/65 [==============================] - 25s 377ms/step - loss: 0.0910 - accuracy: 0.9691 - val_loss: 0.3916 - val_accuracy: 0.8639\n",
      "Epoch 41/100\n",
      "65/65 [==============================] - 24s 373ms/step - loss: 0.0872 - accuracy: 0.9720 - val_loss: 0.3719 - val_accuracy: 0.8722\n",
      "Epoch 42/100\n",
      "65/65 [==============================] - 24s 372ms/step - loss: 0.0858 - accuracy: 0.9691 - val_loss: 0.3987 - val_accuracy: 0.8667\n",
      "Epoch 43/100\n",
      "65/65 [==============================] - 24s 366ms/step - loss: 0.0923 - accuracy: 0.9634 - val_loss: 0.3538 - val_accuracy: 0.8722\n",
      "Epoch 44/100\n",
      "65/65 [==============================] - 25s 376ms/step - loss: 0.0843 - accuracy: 0.9706 - val_loss: 0.3794 - val_accuracy: 0.8722\n",
      "Epoch 45/100\n",
      "65/65 [==============================] - 24s 363ms/step - loss: 0.0705 - accuracy: 0.9735 - val_loss: 0.3981 - val_accuracy: 0.8694\n",
      "Epoch 46/100\n",
      "65/65 [==============================] - 24s 366ms/step - loss: 0.0620 - accuracy: 0.9826 - val_loss: 0.3980 - val_accuracy: 0.8694\n",
      "Epoch 47/100\n",
      "65/65 [==============================] - 23s 354ms/step - loss: 0.0632 - accuracy: 0.9783 - val_loss: 0.3761 - val_accuracy: 0.8806\n",
      "Epoch 48/100\n",
      "65/65 [==============================] - 24s 361ms/step - loss: 0.0797 - accuracy: 0.9711 - val_loss: 0.3693 - val_accuracy: 0.8722\n",
      "Epoch 49/100\n",
      "65/65 [==============================] - 24s 363ms/step - loss: 0.0640 - accuracy: 0.9793 - val_loss: 0.3992 - val_accuracy: 0.8667\n",
      "Epoch 50/100\n",
      "65/65 [==============================] - 24s 362ms/step - loss: 0.0646 - accuracy: 0.9773 - val_loss: 0.4132 - val_accuracy: 0.8667\n"
     ]
    }
   ],
   "source": [
    "# Fase 2 - treina apenas com a quantidade de épocas que faltam (60% finais)\n",
    "# Note que iniciará de initial_epoch=history.epoch[-1]\n",
    "history_fine = model.fit(train_data,\n",
    "                    epochs=EPOCHS,\n",
    "                    initial_epoch=history.epoch[-1],\n",
    "                    steps_per_epoch=len(train_data),\n",
    "                    validation_data=val_data,\n",
    "                    validation_steps=len(val_data), \n",
    "                    callbacks=callbacks2)"
   ]
  },
  {
   "cell_type": "code",
   "execution_count": 20,
   "id": "87057e53",
   "metadata": {},
   "outputs": [
    {
     "data": {
      "image/png": "[encoded data removed]",
      "text/plain": [
       "<Figure size 576x576 with 2 Axes>"
      ]
     },
     "metadata": {
      "needs_background": "light"
     },
     "output_type": "display_data"
    }
   ],
   "source": [
    "acc += history_fine.history['accuracy']\n",
    "val_acc += history_fine.history['val_accuracy']\n",
    "\n",
    "loss += history_fine.history['loss']\n",
    "val_loss += history_fine.history['val_loss']\n",
    "\n",
    "plt.figure(figsize=(8, 8))\n",
    "plt.subplot(2, 1, 1)\n",
    "plt.plot(acc, label='Training Accuracy')\n",
    "plt.plot(val_acc, label='Validation Accuracy')\n",
    "plt.ylim([0.4, 1.0])\n",
    "plt.plot([initial_epochs-1,initial_epochs-1],\n",
    "          plt.ylim(), label='Start Fine Tuning')\n",
    "plt.legend(loc='lower right')\n",
    "plt.title('Training and Validation Accuracy')\n",
    "\n",
    "plt.subplot(2, 1, 2)\n",
    "plt.plot(loss, label='Training Loss')\n",
    "plt.plot(val_loss, label='Validation Loss')\n",
    "plt.ylim([0, 1.0])\n",
    "plt.plot([initial_epochs-1,initial_epochs-1],\n",
    "         plt.ylim(), label='Start Fine Tuning')\n",
    "plt.legend(loc='upper right')\n",
    "plt.title('Training and Validation Loss')\n",
    "plt.xlabel('epoch')\n",
    "plt.show()"
   ]
  },
  {
   "cell_type": "code",
   "execution_count": 21,
   "id": "3821a12d",
   "metadata": {},
   "outputs": [
    {
     "name": "stdout",
     "output_type": "stream",
     "text": [
      "5/5 [==============================] - 9s 2s/step - loss: 1.0823 - accuracy: 0.6415\n",
      "Test accuracy: 0.642\n",
      "Test loss: 1.082\n"
     ]
    }
   ],
   "source": [
    "# Avaliação usando os dados de testes\n",
    "loss, acc = model.evaluate(test_data)\n",
    "print (\"Test accuracy: %.3f\" % acc)\n",
    "print (\"Test loss: %.3f\" % loss)"
   ]
  },
  {
   "cell_type": "code",
   "execution_count": 22,
   "id": "94256750",
   "metadata": {},
   "outputs": [
    {
     "name": "stderr",
     "output_type": "stream",
     "text": [
      "WARNING:absl:Found untraced functions such as _jit_compiled_convolution_op, _jit_compiled_convolution_op, _jit_compiled_convolution_op, _jit_compiled_convolution_op, _jit_compiled_convolution_op while saving (showing 5 of 81). These functions will not be directly callable after loading.\n"
     ]
    },
    {
     "name": "stdout",
     "output_type": "stream",
     "text": [
      "INFO:tensorflow:Assets written to: Models_Save/SiDi_Save_Model_EfficientNetB0\\assets\n"
     ]
    },
    {
     "name": "stderr",
     "output_type": "stream",
     "text": [
      "INFO:tensorflow:Assets written to: Models_Save/SiDi_Save_Model_EfficientNetB0\\assets\n"
     ]
    }
   ],
   "source": [
    "model.save(\"Models_Save/SiDi_Save_Model_EfficientNetB0\")"
   ]
  },
  {
   "cell_type": "code",
   "execution_count": 23,
   "id": "708ff16c",
   "metadata": {},
   "outputs": [],
   "source": [
    "#Função de geração da matriz de confusão\n",
    "def print_confusion_matrix(confusion_matrix, class_names, figsize = (10,7), fontsize=11):\n",
    "    df_cm = pd.DataFrame(\n",
    "        confusion_matrix, index=class_names, columns=class_names, \n",
    "    )\n",
    "    fig = plt.figure(figsize=figsize)\n",
    "    try:\n",
    "        heatmap = sns.heatmap(df_cm, cmap=\"YlGnBu\", annot=True, fmt=\"d\")\n",
    "    except ValueError:\n",
    "        raise ValueError(\"Confusion matrix values must be integers.\")\n",
    "    heatmap.yaxis.set_ticklabels(heatmap.yaxis.get_ticklabels(), rotation=0, ha='right', fontsize=fontsize)\n",
    "    heatmap.xaxis.set_ticklabels(heatmap.xaxis.get_ticklabels(), rotation=30, ha='right', fontsize=fontsize)\n",
    "    plt.ylabel('True label')\n",
    "    plt.xlabel('Predicted label')"
   ]
  },
  {
   "cell_type": "code",
   "execution_count": 30,
   "id": "8f131711",
   "metadata": {},
   "outputs": [
    {
     "name": "stdout",
     "output_type": "stream",
     "text": [
      "5/5 [==============================] - 2s 145ms/step\n",
      "[[1.10476092e-01 8.89523923e-01]\n",
      " [9.88969684e-01 1.10303396e-02]\n",
      " [9.80350673e-01 1.96492989e-02]\n",
      " [9.87509847e-01 1.24901170e-02]\n",
      " [7.15123117e-01 2.84876913e-01]\n",
      " [9.22725141e-01 7.72748739e-02]\n",
      " [6.82317078e-01 3.17682922e-01]\n",
      " [7.24628419e-02 9.27537143e-01]\n",
      " [9.92048085e-01 7.95188081e-03]\n",
      " [1.62521407e-01 8.37478638e-01]\n",
      " [7.77495444e-01 2.22504601e-01]\n",
      " [4.43532497e-01 5.56467533e-01]\n",
      " [8.08858275e-01 1.91141739e-01]\n",
      " [4.38013114e-02 9.56198692e-01]\n",
      " [6.43700123e-01 3.56299877e-01]\n",
      " [7.01416805e-02 9.29858327e-01]\n",
      " [6.58689678e-01 3.41310322e-01]\n",
      " [2.33505368e-01 7.66494632e-01]\n",
      " [6.08354032e-01 3.91645938e-01]\n",
      " [1.32851377e-01 8.67148638e-01]\n",
      " [3.57454419e-01 6.42545640e-01]\n",
      " [9.62467313e-01 3.75327356e-02]\n",
      " [1.83540992e-02 9.81645882e-01]\n",
      " [8.18106625e-03 9.91818905e-01]\n",
      " [5.73476732e-01 4.26523298e-01]\n",
      " [3.39545161e-01 6.60454869e-01]\n",
      " [8.49284947e-01 1.50715068e-01]\n",
      " [9.49494064e-01 5.05059361e-02]\n",
      " [8.27290341e-02 9.17270958e-01]\n",
      " [6.15309253e-02 9.38469052e-01]\n",
      " [3.97311360e-01 6.02688670e-01]\n",
      " [9.58578646e-01 4.14213352e-02]\n",
      " [9.99237895e-01 7.62101787e-04]\n",
      " [2.71540493e-01 7.28459537e-01]\n",
      " [6.80542529e-01 3.19457501e-01]\n",
      " [9.35072780e-01 6.49272650e-02]\n",
      " [6.45684302e-02 9.35431600e-01]\n",
      " [8.74868989e-01 1.25131026e-01]\n",
      " [8.85230482e-01 1.14769496e-01]\n",
      " [6.97057307e-01 3.02942693e-01]\n",
      " [5.83752990e-02 9.41624761e-01]\n",
      " [9.08420742e-01 9.15792882e-02]\n",
      " [1.59426719e-01 8.40573311e-01]\n",
      " [8.37106723e-04 9.99162912e-01]\n",
      " [5.42998537e-02 9.45700109e-01]\n",
      " [1.09010145e-01 8.90989840e-01]\n",
      " [1.24006644e-01 8.75993371e-01]\n",
      " [3.84281009e-01 6.15719020e-01]\n",
      " [4.58776504e-02 9.54122305e-01]\n",
      " [6.12401366e-01 3.87598664e-01]\n",
      " [1.99204221e-01 8.00795794e-01]\n",
      " [6.46428883e-01 3.53571147e-01]\n",
      " [1.56326368e-02 9.84367311e-01]\n",
      " [6.97512984e-01 3.02487046e-01]\n",
      " [2.64752984e-01 7.35247016e-01]\n",
      " [9.45926666e-01 5.40733263e-02]\n",
      " [4.21693847e-02 9.57830667e-01]\n",
      " [3.00851054e-02 9.69914913e-01]\n",
      " [4.76794690e-01 5.23205340e-01]\n",
      " [1.12296753e-01 8.87703180e-01]\n",
      " [2.85925679e-02 9.71407413e-01]\n",
      " [1.27411619e-01 8.72588456e-01]\n",
      " [3.86589378e-01 6.13410592e-01]\n",
      " [9.67128947e-02 9.03287113e-01]\n",
      " [1.36451140e-01 8.63548875e-01]\n",
      " [9.25914824e-01 7.40851611e-02]\n",
      " [4.79320556e-01 5.20679414e-01]\n",
      " [9.62527692e-01 3.74722965e-02]\n",
      " [9.22869802e-01 7.71301910e-02]\n",
      " [3.13495368e-01 6.86504602e-01]\n",
      " [8.15303564e-01 1.84696421e-01]\n",
      " [7.21854448e-01 2.78145522e-01]\n",
      " [9.48669240e-02 9.05133128e-01]\n",
      " [1.17617976e-02 9.88238275e-01]\n",
      " [4.85786885e-01 5.14213085e-01]\n",
      " [8.98915291e-01 1.01084717e-01]\n",
      " [9.52680930e-02 9.04731870e-01]\n",
      " [7.99550831e-01 2.00449169e-01]\n",
      " [1.74465217e-02 9.82553422e-01]\n",
      " [9.59785104e-01 4.02148739e-02]\n",
      " [4.13730890e-02 9.58626926e-01]\n",
      " [3.38511989e-02 9.66148794e-01]\n",
      " [4.43878062e-02 9.55612242e-01]\n",
      " [1.51641622e-01 8.48358333e-01]\n",
      " [8.38978171e-01 1.61021844e-01]\n",
      " [4.91847008e-01 5.08153021e-01]\n",
      " [9.46524978e-01 5.34750670e-02]\n",
      " [9.13550913e-01 8.64491388e-02]\n",
      " [8.42911720e-01 1.57088220e-01]\n",
      " [9.96867120e-01 3.13280965e-03]\n",
      " [1.01669922e-01 8.98330092e-01]\n",
      " [4.72218990e-02 9.52778101e-01]\n",
      " [8.65513980e-01 1.34486005e-01]\n",
      " [1.50128573e-01 8.49871397e-01]\n",
      " [1.88913979e-02 9.81108606e-01]\n",
      " [8.11878502e-01 1.88121513e-01]\n",
      " [2.82297954e-02 9.71770227e-01]\n",
      " [2.79702902e-01 7.20297098e-01]\n",
      " [3.25654417e-01 6.74345553e-01]\n",
      " [8.37543011e-01 1.62456974e-01]\n",
      " [1.36072144e-01 8.63927841e-01]\n",
      " [8.45656931e-01 1.54343039e-01]\n",
      " [1.20027866e-02 9.87997174e-01]\n",
      " [3.25314961e-02 9.67468500e-01]\n",
      " [6.82382658e-02 9.31761742e-01]\n",
      " [9.02757227e-01 9.72427204e-02]\n",
      " [2.92211115e-01 7.07788825e-01]\n",
      " [8.41540515e-01 1.58459485e-01]\n",
      " [7.90889859e-01 2.09110156e-01]\n",
      " [2.17452899e-01 7.82547116e-01]\n",
      " [3.52868617e-01 6.47131443e-01]\n",
      " [2.82061882e-02 9.71793830e-01]\n",
      " [1.43257111e-01 8.56742918e-01]\n",
      " [9.93343592e-01 6.65639294e-03]\n",
      " [9.84908104e-01 1.50918523e-02]\n",
      " [2.50343531e-01 7.49656498e-01]\n",
      " [3.25927556e-01 6.74072444e-01]\n",
      " [8.27273667e-01 1.72726348e-01]\n",
      " [7.97799647e-01 2.02200323e-01]\n",
      " [6.87537432e-01 3.12462538e-01]\n",
      " [5.50281592e-02 9.44971859e-01]\n",
      " [9.53186080e-02 9.04681444e-01]\n",
      " [3.91197540e-02 9.60880280e-01]\n",
      " [8.83023441e-01 1.16976522e-01]\n",
      " [5.09520024e-02 9.49048042e-01]\n",
      " [1.12943016e-02 9.88705695e-01]\n",
      " [6.78363219e-02 9.32163656e-01]\n",
      " [6.44091308e-01 3.55908722e-01]\n",
      " [3.62417325e-02 9.63758290e-01]\n",
      " [9.23809230e-01 7.61908293e-02]\n",
      " [8.64432976e-02 9.13556635e-01]\n",
      " [8.69442448e-02 9.13055718e-01]\n",
      " [2.91876420e-02 9.70812380e-01]\n",
      " [3.61395516e-02 9.63860512e-01]\n",
      " [8.77970040e-01 1.22029975e-01]\n",
      " [7.78056607e-02 9.22194362e-01]\n",
      " [8.31336677e-01 1.68663278e-01]\n",
      " [9.21070576e-01 7.89294615e-02]\n",
      " [5.89106083e-01 4.10893917e-01]\n",
      " [6.93732500e-01 3.06267470e-01]\n",
      " [5.63100040e-01 4.36899990e-01]\n",
      " [6.59047782e-01 3.40952247e-01]\n",
      " [9.06258941e-01 9.37411413e-02]\n",
      " [2.50709921e-01 7.49290049e-01]\n",
      " [4.16752808e-02 9.58324671e-01]\n",
      " [6.62117917e-03 9.93378758e-01]\n",
      " [8.97785276e-02 9.10221457e-01]\n",
      " [4.79478061e-01 5.20521939e-01]\n",
      " [3.47430520e-02 9.65256929e-01]\n",
      " [8.53698075e-01 1.46301970e-01]\n",
      " [9.06930566e-01 9.30693895e-02]\n",
      " [8.19485009e-01 1.80514991e-01]\n",
      " [9.54469919e-01 4.55300473e-02]\n",
      " [3.05138856e-01 6.94861174e-01]\n",
      " [1.62865087e-01 8.37134898e-01]\n",
      " [9.99984980e-01 1.50569649e-05]\n",
      " [5.68586946e-01 4.31413025e-01]\n",
      " [9.13753092e-01 8.62468556e-02]\n",
      " [6.86915159e-01 3.13084811e-01]]\n",
      "tf.Tensor(\n",
      "[[0.31452513 0.6854748 ]\n",
      " [0.7266992  0.27330086]\n",
      " [0.72326225 0.2767378 ]\n",
      " [0.7261189  0.2738811 ]\n",
      " [0.6059325  0.39406756]\n",
      " [0.69961184 0.30038816]\n",
      " [0.5901618  0.40983823]\n",
      " [0.2983695  0.70163053]\n",
      " [0.72792023 0.27207977]\n",
      " [0.33738774 0.6626123 ]\n",
      " [0.6352927  0.36470726]\n",
      " [0.4717962  0.5282038 ]\n",
      " [0.64969903 0.35030097]\n",
      " [0.2865095  0.71349055]\n",
      " [0.5713595  0.42864043]\n",
      " [0.29739854 0.70260143]\n",
      " [0.57868546 0.42131457]\n",
      " [0.36981997 0.63018006]\n",
      " [0.553966   0.44603398]\n",
      " [0.32425243 0.6757476 ]\n",
      " [0.42920604 0.5707939 ]\n",
      " [0.7160465  0.28395355]\n",
      " [0.2762196  0.7237804 ]\n",
      " [0.27217054 0.7278294 ]\n",
      " [0.5366724  0.46332762]\n",
      " [0.42045406 0.579546  ]\n",
      " [0.66787064 0.3321294 ]\n",
      " [0.7107415  0.2892585 ]\n",
      " [0.30268556 0.69731444]\n",
      " [0.2938127  0.7061873 ]\n",
      " [0.44883537 0.5511646 ]\n",
      " [0.7144625  0.28553745]\n",
      " [0.7307588  0.2692412 ]\n",
      " [0.38771698 0.612283  ]\n",
      " [0.5893031  0.41069692]\n",
      " [0.704776   0.29522404]\n",
      " [0.29507473 0.7049253 ]\n",
      " [0.6791216  0.32087842]\n",
      " [0.68362063 0.3163794 ]\n",
      " [0.5972728  0.40272722]\n",
      " [0.29250488 0.70749515]\n",
      " [0.6935655  0.30643454]\n",
      " [0.33600542 0.66399455]\n",
      " [0.26927072 0.7307292 ]\n",
      " [0.29082096 0.70917904]\n",
      " [0.31389338 0.6861066 ]\n",
      " [0.32038856 0.6796114 ]\n",
      " [0.4423974  0.5576026 ]\n",
      " [0.28735918 0.7126408 ]\n",
      " [0.5559652  0.4440348 ]\n",
      " [0.35397965 0.64602035]\n",
      " [0.5726956  0.42730436]\n",
      " [0.27513278 0.7248672 ]\n",
      " [0.597492   0.402508  ]\n",
      " [0.3844993  0.6155006 ]\n",
      " [0.70927244 0.29072753]\n",
      " [0.28584278 0.7141572 ]\n",
      " [0.28093472 0.7190653 ]\n",
      " [0.48839942 0.51160055]\n",
      " [0.31531075 0.6846892 ]\n",
      " [0.28033212 0.7196679 ]\n",
      " [0.32187313 0.6781268 ]\n",
      " [0.44353655 0.5564634 ]\n",
      " [0.30862102 0.691379  ]\n",
      " [0.32583195 0.67416805]\n",
      " [0.7009508  0.2990492 ]\n",
      " [0.48966175 0.51033825]\n",
      " [0.71607107 0.28392896]\n",
      " [0.6996727  0.30032733]\n",
      " [0.4078141  0.5921859 ]\n",
      " [0.6526271  0.34737292]\n",
      " [0.6091425  0.39085758]\n",
      " [0.3078338  0.6921662 ]\n",
      " [0.2735915  0.72640854]\n",
      " [0.49289393 0.50710607]\n",
      " [0.6895103  0.31048977]\n",
      " [0.30800477 0.6919952 ]\n",
      " [0.6454508  0.35454923]\n",
      " [0.27585688 0.72414315]\n",
      " [0.71495456 0.28504547]\n",
      " [0.28551778 0.71448225]\n",
      " [0.2824588  0.71754116]\n",
      " [0.28674936 0.71325064]\n",
      " [0.3325406  0.6674594 ]\n",
      " [0.66328245 0.33671755]\n",
      " [0.4959236  0.5040764 ]\n",
      " [0.70951915 0.29048085]\n",
      " [0.6957418  0.30425826]\n",
      " [0.6650372  0.33496282]\n",
      " [0.7298249  0.27017513]\n",
      " [0.31074038 0.68925965]\n",
      " [0.28791004 0.71208996]\n",
      " [0.6750308  0.3249692 ]\n",
      " [0.33186924 0.66813076]\n",
      " [0.27643448 0.72356546]\n",
      " [0.65107256 0.34892747]\n",
      " [0.28018576 0.71981424]\n",
      " [0.3915994  0.6084006 ]\n",
      " [0.41369987 0.58630013]\n",
      " [0.6626411  0.33735892]\n",
      " [0.32566547 0.6743345 ]\n",
      " [0.66625917 0.33374086]\n",
      " [0.2736873  0.7263127 ]\n",
      " [0.2819242  0.7180759 ]\n",
      " [0.2966037  0.7033963 ]\n",
      " [0.6911529  0.3088472 ]\n",
      " [0.39757547 0.60242456]\n",
      " [0.66442597 0.33557397]\n",
      " [0.6414768  0.3585232 ]\n",
      " [0.36236957 0.63763046]\n",
      " [0.42696056 0.5730394 ]\n",
      " [0.28017622 0.7198238 ]\n",
      " [0.32882905 0.67117095]\n",
      " [0.72843313 0.27156693]\n",
      " [0.7250829  0.27491713]\n",
      " [0.37770215 0.6222978 ]\n",
      " [0.41383237 0.58616763]\n",
      " [0.65803444 0.34196556]\n",
      " [0.64464885 0.35535118]\n",
      " [0.5926847  0.40731534]\n",
      " [0.29112145 0.7088786 ]\n",
      " [0.3080263  0.69197375]\n",
      " [0.2845993  0.7154007 ]\n",
      " [0.68266517 0.31733486]\n",
      " [0.2894419  0.7105581 ]\n",
      " [0.27340573 0.72659427]\n",
      " [0.29643604 0.703564  ]\n",
      " [0.57155114 0.42844886]\n",
      " [0.28342882 0.7165712 ]\n",
      " [0.7000673  0.2999327 ]\n",
      " [0.30425578 0.6957442 ]\n",
      " [0.30446792 0.6955321 ]\n",
      " [0.2805723  0.71942776]\n",
      " [0.2833873  0.7166127 ]\n",
      " [0.68047166 0.31952837]\n",
      " [0.3006113  0.6993887 ]\n",
      " [0.6598607  0.3401393 ]\n",
      " [0.69891596 0.30108404]\n",
      " [0.5444355  0.45556453]\n",
      " [0.5956723  0.40432772]\n",
      " [0.5315082  0.4684918 ]\n",
      " [0.57886004 0.42113993]\n",
      " [0.6926458  0.3073542 ]\n",
      " [0.3778744  0.62212557]\n",
      " [0.28564113 0.7143589 ]\n",
      " [0.271553   0.728447  ]\n",
      " [0.30566967 0.6943304 ]\n",
      " [0.48974046 0.5102595 ]\n",
      " [0.2828205  0.71717954]\n",
      " [0.6698255  0.33017448]\n",
      " [0.69293165 0.30706832]\n",
      " [0.6545206  0.34547943]\n",
      " [0.71278316 0.2872168 ]\n",
      " [0.40378416 0.59621584]\n",
      " [0.3375414  0.66245854]\n",
      " [0.73105264 0.26894733]\n",
      " [0.5342398  0.4657602 ]\n",
      " [0.69582736 0.3041726 ]\n",
      " [0.5923842  0.4076158 ]], shape=(159, 2), dtype=float32)\n"
     ]
    }
   ],
   "source": [
    "Y_pred = model.predict(test_data, verbose=1)\n",
    "print(Y_pred)\n",
    "score = tf.math.softmax(Y_pred) # alias -> tf.nn.sigmoid\n",
    "print(score)"
   ]
  },
  {
   "cell_type": "code",
   "execution_count": 58,
   "id": "658edc07",
   "metadata": {},
   "outputs": [
    {
     "name": "stdout",
     "output_type": "stream",
     "text": [
      "[1 0 0 0 0 0 0 1 0 1 0 1 0 1 0 1 0 1 0 1 1 0 1 1 0 1 0 0 1 1 1 0 0 1 0 0 1\n",
      " 0 0 0 1 0 1 1 1 1 1 1 1 0 1 0 1 0 1 0 1 1 1 1 1 1 1 1 1 0 1 0 0 1 0 0 1 1\n",
      " 1 0 1 0 1 0 1 1 1 1 0 1 0 0 0 0 1 1 0 1 1 0 1 1 1 0 1 0 1 1 1 0 1 0 0 1 1\n",
      " 1 1 0 0 1 1 0 0 0 1 1 1 0 1 1 1 0 1 0 1 1 1 1 0 1 0 0 0 0 0 0 0 1 1 1 1 1\n",
      " 1 0 0 0 0 1 1 0 0 0 0]\n"
     ]
    }
   ],
   "source": [
    "test_preds = np.argmax(score, axis=-1)\n",
    "print(test_preds)"
   ]
  },
  {
   "cell_type": "code",
   "execution_count": 60,
   "id": "2e04cda5",
   "metadata": {},
   "outputs": [
    {
     "data": {
      "text/plain": [
       "0.5471698113207547"
      ]
     },
     "execution_count": 60,
     "metadata": {},
     "output_type": "execute_result"
    }
   ],
   "source": [
    "len(test_preds[test_preds==1])/159"
   ]
  },
  {
   "cell_type": "code",
   "execution_count": 24,
   "id": "428948ff",
   "metadata": {},
   "outputs": [
    {
     "name": "stdout",
     "output_type": "stream",
     "text": [
      "### Matriz de confusão para o conjunto de teste ###\n",
      "5/5 [==============================] - 9s 1s/step\n"
     ]
    },
    {
     "data": {
      "image/png": "[encoded data removed]",
      "text/plain": [
       "<Figure size 720x504 with 2 Axes>"
      ]
     },
     "metadata": {
      "needs_background": "light"
     },
     "output_type": "display_data"
    }
   ],
   "source": [
    "## Conjunto de Teste ###\n",
    "\n",
    "print (\"### Matriz de confusão para o conjunto de teste ###\")\n",
    "\n",
    "#Confution Matrix\n",
    "Y_pred = model.predict(test_data, verbose=1)\n",
    "\n",
    "test_preds = np.argmax(Y_pred, axis=-1)\n",
    "l=test_preds.shape[0]\n",
    "test_trues = test_data.classes\n",
    "cm =confusion_matrix(test_trues[:l], test_preds)\n",
    "\n",
    "print_confusion_matrix(cm, [\"benigno\", \"maligno\"], figsize = (10,7), fontsize=11)"
   ]
  },
  {
   "cell_type": "markdown",
   "id": "2223d0f9",
   "metadata": {},
   "source": [
    "# GRADCAM"
   ]
  },
  {
   "cell_type": "code",
   "execution_count": 3,
   "id": "4204176a",
   "metadata": {},
   "outputs": [],
   "source": [
    "# Carrega o modelo\n",
    "model = load_model(\"Models_Save/SiDi_Save_Model_EfficientNetB0\")"
   ]
  },
  {
   "cell_type": "code",
   "execution_count": 4,
   "id": "b8e17847",
   "metadata": {},
   "outputs": [
    {
     "name": "stdout",
     "output_type": "stream",
     "text": [
      "Model: \"model\"\n",
      "_________________________________________________________________\n",
      " Layer (type)                Output Shape              Param #   \n",
      "=================================================================\n",
      " input_2 (InputLayer)        [(None, 224, 224, 3)]     0         \n",
      "                                                                 \n",
      " tf.cast (TFOpLambda)        (None, 224, 224, 3)       0         \n",
      "                                                                 \n",
      " efficientnetb0 (Functional)  (None, 1280)             4049571   \n",
      "                                                                 \n",
      " dense (Dense)               (None, 256)               327936    \n",
      "                                                                 \n",
      " dropout (Dropout)           (None, 256)               0         \n",
      "                                                                 \n",
      " batch_normalization (BatchN  (None, 256)              1024      \n",
      " ormalization)                                                   \n",
      "                                                                 \n",
      " dense_1 (Dense)             (None, 128)               32896     \n",
      "                                                                 \n",
      " dropout_1 (Dropout)         (None, 128)               0         \n",
      "                                                                 \n",
      " batch_normalization_1 (Batc  (None, 128)              512       \n",
      " hNormalization)                                                 \n",
      "                                                                 \n",
      " dense_2 (Dense)             (None, 64)                8256      \n",
      "                                                                 \n",
      " dropout_2 (Dropout)         (None, 64)                0         \n",
      "                                                                 \n",
      " batch_normalization_2 (Batc  (None, 64)               256       \n",
      " hNormalization)                                                 \n",
      "                                                                 \n",
      " dense_3 (Dense)             (None, 32)                2080      \n",
      "                                                                 \n",
      " dropout_3 (Dropout)         (None, 32)                0         \n",
      "                                                                 \n",
      " dense_4 (Dense)             (None, 1)                 33        \n",
      "                                                                 \n",
      "=================================================================\n",
      "Total params: 4,422,564\n",
      "Trainable params: 3,409,917\n",
      "Non-trainable params: 1,012,647\n",
      "_________________________________________________________________\n"
     ]
    }
   ],
   "source": [
    "model.summary()"
   ]
  },
  {
   "cell_type": "code",
   "execution_count": 5,
   "id": "c3682953",
   "metadata": {},
   "outputs": [],
   "source": [
    "basemodel=model.layers[2]"
   ]
  },
  {
   "cell_type": "code",
   "execution_count": 6,
   "id": "5dc36772",
   "metadata": {},
   "outputs": [
    {
     "name": "stdout",
     "output_type": "stream",
     "text": [
      "top_conv\n"
     ]
    }
   ],
   "source": [
    "last_conv_layer_name = list(filter(lambda x: isinstance(x, keras.layers.Conv2D), basemodel.layers))[-1].name\n",
    "print(last_conv_layer_name) "
   ]
  },
  {
   "cell_type": "code",
   "execution_count": 7,
   "id": "4e630c64",
   "metadata": {},
   "outputs": [],
   "source": [
    "def get_img_array(img_path, size):\n",
    "\n",
    "    # `img` is a PIL image of size 299x299\n",
    "    img = tf.keras.utils.load_img(img_path, target_size=size)\n",
    "    \n",
    "    # `array` is a float32 Numpy array of shape (299, 299, 3)\n",
    "    array = tf.keras.utils.img_to_array(img)\n",
    "    \n",
    "    # We add a dimension to transform our array into a \"batch\"\n",
    "    # of size (1, 299, 299, 3)\n",
    "    array = np.expand_dims(array, axis=0)\n",
    "    return array\n",
    "\n",
    "\n",
    "def make_gradcam_heatmap(img_array, model, last_conv_layer_name, pred_index=None):\n",
    "    # First, we create a model that maps the input image to the activations\n",
    "    # of the last conv layer as well as the output predictions\n",
    "    grad_model = tf.keras.models.Model([model.inputs], \n",
    "                                       [basemodel.get_layer(last_conv_layer_name).output, model.output])\n",
    "           \n",
    "\n",
    "    # Then, we compute the gradient of the top predicted class for our input image\n",
    "    # with respect to the activations of the last conv layer\n",
    "    with tf.GradientTape() as tape:\n",
    "        last_conv_layer_output, predictions = grad_model(img_array)\n",
    "        predictions = tf.squeeze(predictions)\n",
    "        if pred_index is None:\n",
    "            pred_index = tf.argmax(predictions)\n",
    "        class_channel = predictions[pred_index]\n",
    "\n",
    "    # This is the gradient of the output neuron (top predicted or chosen)\n",
    "    # with regard to the output feature map of the last conv layer\n",
    "    grads = tape.gradient(class_channel, last_conv_layer_output)\n",
    "\n",
    "    # This is a vector where each entry is the mean intensity of the gradient\n",
    "    # over a specific feature map channel\n",
    "    pooled_grads = tf.reduce_mean(grads, axis=(0, 1, 2))\n",
    "\n",
    "    # We multiply each channel in the feature map array\n",
    "    # by \"how important this channel is\" with regard to the top predicted class\n",
    "    # then sum all the channels to obtain the heatmap class activation\n",
    "    last_conv_layer_output = last_conv_layer_output[0]\n",
    "    heatmap = last_conv_layer_output @ pooled_grads[..., tf.newaxis]\n",
    "    heatmap = tf.squeeze(heatmap)\n",
    "\n",
    "    # For visualization purpose, we will also normalize the heatmap between 0 & 1\n",
    "    heatmap = tf.maximum(heatmap, 0) / tf.math.reduce_max(heatmap)\n",
    "    \n",
    "    return heatmap.numpy()"
   ]
  },
  {
   "cell_type": "code",
   "execution_count": 8,
   "id": "e0af695f",
   "metadata": {},
   "outputs": [],
   "source": [
    "# Prepare image\n",
    "def generate_heatmap(img_path):\n",
    "    img_array = get_img_array(img_path, size=(224,224))\n",
    "\n",
    "    # Remove last layer's softmax\n",
    "    # model.layers[-1].activation = None\n",
    "\n",
    "    # Print what the top predicted class is\n",
    "    preds = model.predict(img_array)\n",
    "    model_preds = tf.squeeze(tf.round(preds))\n",
    "    top_pred_index = tf.argmax(preds[0])\n",
    "\n",
    "    # Generate class activation heatmap\n",
    "    heatmap = make_gradcam_heatmap(img_array, model, last_conv_layer_name)\n",
    "    heat_test = heatmap.copy()\n",
    "\n",
    "    # Display heatmap\n",
    "#     print(heatmap)\n",
    "#     plt.matshow(heatmap)\n",
    "#     plt.show()\n",
    "    \n",
    "    return heatmap, class_names[top_pred_index], preds[0][top_pred_index]"
   ]
  },
  {
   "cell_type": "code",
   "execution_count": 9,
   "id": "282f1825",
   "metadata": {},
   "outputs": [],
   "source": [
    "def save_and_display_gradcam(img_path, heatmap, alpha=0.9, pred=None): #cam_path=\"saved/teste_1.jpg\"\n",
    "    \n",
    "    # Load the original image\n",
    "    img = tf.keras.utils.load_img(img_path)\n",
    "    img = tf.keras.utils.img_to_array(img)\n",
    "\n",
    "    # Rescale heatmap to a range 0-255\n",
    "    heatmap = np.uint8(255 * heatmap)\n",
    "\n",
    "    # Use jet colormap to colorize heatmap\n",
    "    if pred == 'malignant':\n",
    "        jet = cm.get_cmap(\"Reds\")\n",
    "    else:\n",
    "        jet = cm.get_cmap(\"Greens\")\n",
    "\n",
    "    # Use RGB values of the colormap\n",
    "    jet_colors = jet(np.arange(256))[:, :3]\n",
    "    jet_heatmap = jet_colors[heatmap]\n",
    "\n",
    "    # Create an image with RGB colorized heatmap\n",
    "    jet_heatmap = tf.keras.utils.array_to_img(jet_heatmap) #keras.preprocessing.image.array_to_img(jet_heatmap)\n",
    "    jet_heatmap = jet_heatmap.resize((img.shape[1], img.shape[0]))\n",
    "    jet_heatmap = np.array(jet_heatmap) # keras.preprocessing.image.img_to_array(jet_heatmap)\n",
    "    \n",
    "    # only for generating images\n",
    "    # Superimpose the heatmap on original image\n",
    "#     superimposed_img = jet_heatmap * alpha + img\n",
    "#     superimposed_img = tf.keras.utils.array_to_img(superimposed_img)\n",
    "\n",
    "    # Save the superimposed image\n",
    "#     superimposed_img.save(cam_path)\n",
    "    \n",
    "    # generating mask\n",
    "    jet_heatmap = cv.cvtColor(jet_heatmap, cv.COLOR_RGB2GRAY)\n",
    "    _, thresh = cv.threshold(jet_heatmap, 220, 255, cv.THRESH_BINARY_INV)\n",
    "\n",
    "\n",
    "    # Display Grad CAM\n",
    "#     plt.imshow(superimposed_img) # comentar quando for gerar o dataframe\n",
    "    \n",
    "    return thresh"
   ]
  },
  {
   "cell_type": "markdown",
   "id": "6cf8b8f5",
   "metadata": {},
   "source": [
    "# Gerar dataset"
   ]
  },
  {
   "cell_type": "code",
   "execution_count": 10,
   "id": "ba33c611",
   "metadata": {},
   "outputs": [],
   "source": [
    "def loading_json(filen='SiDi_BreCaHAD_test/groundTruth/'):\n",
    "    tumor_cells = {}\n",
    "    annot_points = {}\n",
    "    \n",
    "    for root, dirs, items in os.walk(filen):\n",
    "        for i, item in enumerate(items):\n",
    "            # Opening JSON file\n",
    "            f = open(filen+item)\n",
    "            # returns JSON object as \n",
    "            # a dictionary\n",
    "            data = json.load(f)\n",
    "            \n",
    "            # adding values to dictionary\n",
    "            tumor_cells[item.split('.')[0]] = len(data['tumor'])\n",
    "            \n",
    "            # creating list to get the annotations coordinates\n",
    "            x_y = []\n",
    "            for j, points in enumerate(data['tumor']):\n",
    "                # list to get the coordinates of one annotation\n",
    "                values_i_j = []\n",
    "                \n",
    "                # the values are multiplied by the image resolution\n",
    "                values_i_j.append(int(points['x']*1024))\n",
    "                values_i_j.append(int(points['y']*1360))\n",
    "                \n",
    "                # adding the coordinates to the list of one case\n",
    "                x_y.append(values_i_j)\n",
    "            \n",
    "            # adding corresponding annotations to the respective case\n",
    "            annot_points[item.split('.')[0]] = x_y\n",
    "\n",
    "            # Closing file\n",
    "            f.close()\n",
    "            \n",
    "    return tumor_cells, annot_points"
   ]
  },
  {
   "cell_type": "code",
   "execution_count": 11,
   "id": "eebb543f",
   "metadata": {},
   "outputs": [],
   "source": [
    "def getting_probs(filen='SiDi_BreCaHAD_test/dataset/malignant/'):\n",
    "    \n",
    "    # loading test images\n",
    "    probs = []\n",
    "    classes = []\n",
    "    masks = []\n",
    "    for root, dirs, items in os.walk(filen):\n",
    "        for item in items:\n",
    "            heatmap, class_, prob = generate_heatmap(filen+item)\n",
    "            mask = save_and_display_gradcam(filen+item, heatmap, class_)\n",
    "            probs.append(round(prob*100,2))\n",
    "            classes.append(class_)\n",
    "            masks.append(mask)\n",
    "            \n",
    "\n",
    "    return classes, masks, probs"
   ]
  },
  {
   "cell_type": "code",
   "execution_count": 12,
   "id": "e44e84ac",
   "metadata": {},
   "outputs": [],
   "source": [
    "def checking_points(annot_points, lst_heatmaps):\n",
    "    \n",
    "    # list to check the correct values\n",
    "    correct_values = []\n",
    "    i = 0\n",
    "    \n",
    "    for k, v in annot_points.items():\n",
    "        got_it_right = 0\n",
    "        mask_matrix = lst_heatmaps[i]\n",
    "        \n",
    "        for a, b in enumerate(v):\n",
    "            if mask_matrix[b[0]][b[1]] > 0:\n",
    "                got_it_right += 1\n",
    "        # adding the correct correspondences to the list      \n",
    "        correct_values.append(got_it_right)\n",
    "        i += 1\n",
    "        \n",
    "    return correct_values"
   ]
  },
  {
   "cell_type": "code",
   "execution_count": 13,
   "id": "d007dbcc",
   "metadata": {},
   "outputs": [],
   "source": [
    "def generating_dataset():\n",
    "    \n",
    "    tumor_cells, annot_points = loading_json()\n",
    "    lst_classes, lst_heatmaps, lst_probs = getting_probs()\n",
    "#     lst_tumors = interpretability(types=lst_classes, hmaps=lst_heatmaps)\n",
    "    lst_tumors = checking_points(annot_points, lst_heatmaps)\n",
    "    tumor_region = []\n",
    "    accuracy = []\n",
    "    \n",
    "    # tumors found\n",
    "    tumor_cells_values = list(tumor_cells.values())\n",
    "    \n",
    "    for i, qtd in enumerate(lst_tumors):\n",
    "        if lst_classes[i] == 'benign':\n",
    "            tumor_region.append(0)\n",
    "            accuracy.append()\n",
    "            \n",
    "        else:\n",
    "            tumor_region.append(round((qtd/tumor_cells_values[i])*100, 2))\n",
    "            \n",
    "    \n",
    "    dataframe = pd.DataFrame(data=[tumor_cells.keys(), tumor_cells.values(), lst_classes, lst_probs,\n",
    "                                  lst_tumors, tumor_region],\n",
    "                             index=['Case', 'Total Tumor Cells', 'Pred. Type', 'Probability (%)',\n",
    "                                     'Tumors Found' ,'Interpret. Region Accuracy (%)']).transpose()\n",
    "    \n",
    "    return dataframe"
   ]
  },
  {
   "cell_type": "code",
   "execution_count": 14,
   "id": "0f2a8b8e",
   "metadata": {},
   "outputs": [
    {
     "name": "stdout",
     "output_type": "stream",
     "text": [
      "1/1 [==============================] - 7s 7s/step\n"
     ]
    },
    {
     "ename": "ValueError",
     "evalue": "Graph disconnected: cannot obtain value for tensor KerasTensor(type_spec=TensorSpec(shape=(None, 224, 224, 3), dtype=tf.float32, name='input_1'), name='input_1', description=\"created by layer 'input_1'\") at layer \"rescaling\". The following previous layers were accessed without issue: []",
     "output_type": "error",
     "traceback": [
      "\u001b[1;31m---------------------------------------------------------------------------\u001b[0m",
      "\u001b[1;31mValueError\u001b[0m                                Traceback (most recent call last)",
      "Input \u001b[1;32mIn [14]\u001b[0m, in \u001b[0;36m<cell line: 1>\u001b[1;34m()\u001b[0m\n\u001b[1;32m----> 1\u001b[0m df \u001b[38;5;241m=\u001b[39m \u001b[43mgenerating_dataset\u001b[49m\u001b[43m(\u001b[49m\u001b[43m)\u001b[49m\n",
      "Input \u001b[1;32mIn [13]\u001b[0m, in \u001b[0;36mgenerating_dataset\u001b[1;34m()\u001b[0m\n\u001b[0;32m      1\u001b[0m \u001b[38;5;28;01mdef\u001b[39;00m \u001b[38;5;21mgenerating_dataset\u001b[39m():\n\u001b[0;32m      3\u001b[0m     tumor_cells, annot_points \u001b[38;5;241m=\u001b[39m loading_json()\n\u001b[1;32m----> 4\u001b[0m     lst_classes, lst_heatmaps, lst_probs \u001b[38;5;241m=\u001b[39m \u001b[43mgetting_probs\u001b[49m\u001b[43m(\u001b[49m\u001b[43m)\u001b[49m\n\u001b[0;32m      5\u001b[0m \u001b[38;5;66;03m#     lst_tumors = interpretability(types=lst_classes, hmaps=lst_heatmaps)\u001b[39;00m\n\u001b[0;32m      6\u001b[0m     lst_tumors \u001b[38;5;241m=\u001b[39m checking_points(annot_points, lst_heatmaps)\n",
      "Input \u001b[1;32mIn [11]\u001b[0m, in \u001b[0;36mgetting_probs\u001b[1;34m(filen)\u001b[0m\n\u001b[0;32m      7\u001b[0m \u001b[38;5;28;01mfor\u001b[39;00m root, dirs, items \u001b[38;5;129;01min\u001b[39;00m os\u001b[38;5;241m.\u001b[39mwalk(filen):\n\u001b[0;32m      8\u001b[0m     \u001b[38;5;28;01mfor\u001b[39;00m item \u001b[38;5;129;01min\u001b[39;00m items:\n\u001b[1;32m----> 9\u001b[0m         heatmap, class_, prob \u001b[38;5;241m=\u001b[39m \u001b[43mgenerate_heatmap\u001b[49m\u001b[43m(\u001b[49m\u001b[43mfilen\u001b[49m\u001b[38;5;241;43m+\u001b[39;49m\u001b[43mitem\u001b[49m\u001b[43m)\u001b[49m\n\u001b[0;32m     10\u001b[0m         mask \u001b[38;5;241m=\u001b[39m save_and_display_gradcam(filen\u001b[38;5;241m+\u001b[39mitem, heatmap, class_)\n\u001b[0;32m     11\u001b[0m         probs\u001b[38;5;241m.\u001b[39mappend(\u001b[38;5;28mround\u001b[39m(prob\u001b[38;5;241m*\u001b[39m\u001b[38;5;241m100\u001b[39m,\u001b[38;5;241m2\u001b[39m))\n",
      "Input \u001b[1;32mIn [8]\u001b[0m, in \u001b[0;36mgenerate_heatmap\u001b[1;34m(img_path)\u001b[0m\n\u001b[0;32m     11\u001b[0m     top_pred_index \u001b[38;5;241m=\u001b[39m tf\u001b[38;5;241m.\u001b[39margmax(preds[\u001b[38;5;241m0\u001b[39m])\n\u001b[0;32m     13\u001b[0m     \u001b[38;5;66;03m# Generate class activation heatmap\u001b[39;00m\n\u001b[1;32m---> 14\u001b[0m     heatmap \u001b[38;5;241m=\u001b[39m \u001b[43mmake_gradcam_heatmap\u001b[49m\u001b[43m(\u001b[49m\u001b[43mimg_array\u001b[49m\u001b[43m,\u001b[49m\u001b[43m \u001b[49m\u001b[43mmodel\u001b[49m\u001b[43m,\u001b[49m\u001b[43m \u001b[49m\u001b[43mlast_conv_layer_name\u001b[49m\u001b[43m)\u001b[49m\n\u001b[0;32m     15\u001b[0m     heat_test \u001b[38;5;241m=\u001b[39m heatmap\u001b[38;5;241m.\u001b[39mcopy()\n\u001b[0;32m     17\u001b[0m     \u001b[38;5;66;03m# Display heatmap\u001b[39;00m\n\u001b[0;32m     18\u001b[0m \u001b[38;5;66;03m#     print(heatmap)\u001b[39;00m\n\u001b[0;32m     19\u001b[0m \u001b[38;5;66;03m#     plt.matshow(heatmap)\u001b[39;00m\n\u001b[0;32m     20\u001b[0m \u001b[38;5;66;03m#     plt.show()\u001b[39;00m\n",
      "Input \u001b[1;32mIn [7]\u001b[0m, in \u001b[0;36mmake_gradcam_heatmap\u001b[1;34m(img_array, model, last_conv_layer_name, pred_index)\u001b[0m\n\u001b[0;32m     15\u001b[0m \u001b[38;5;28;01mdef\u001b[39;00m \u001b[38;5;21mmake_gradcam_heatmap\u001b[39m(img_array, model, last_conv_layer_name, pred_index\u001b[38;5;241m=\u001b[39m\u001b[38;5;28;01mNone\u001b[39;00m):\n\u001b[0;32m     16\u001b[0m     \u001b[38;5;66;03m# First, we create a model that maps the input image to the activations\u001b[39;00m\n\u001b[0;32m     17\u001b[0m     \u001b[38;5;66;03m# of the last conv layer as well as the output predictions\u001b[39;00m\n\u001b[1;32m---> 18\u001b[0m     grad_model \u001b[38;5;241m=\u001b[39m \u001b[43mtf\u001b[49m\u001b[38;5;241;43m.\u001b[39;49m\u001b[43mkeras\u001b[49m\u001b[38;5;241;43m.\u001b[39;49m\u001b[43mmodels\u001b[49m\u001b[38;5;241;43m.\u001b[39;49m\u001b[43mModel\u001b[49m\u001b[43m(\u001b[49m\u001b[43m[\u001b[49m\u001b[43mmodel\u001b[49m\u001b[38;5;241;43m.\u001b[39;49m\u001b[43minputs\u001b[49m\u001b[43m]\u001b[49m\u001b[43m,\u001b[49m\u001b[43m \u001b[49m\n\u001b[0;32m     19\u001b[0m \u001b[43m                                       \u001b[49m\u001b[43m[\u001b[49m\u001b[43mbasemodel\u001b[49m\u001b[38;5;241;43m.\u001b[39;49m\u001b[43mget_layer\u001b[49m\u001b[43m(\u001b[49m\u001b[43mlast_conv_layer_name\u001b[49m\u001b[43m)\u001b[49m\u001b[38;5;241;43m.\u001b[39;49m\u001b[43moutput\u001b[49m\u001b[43m,\u001b[49m\u001b[43m \u001b[49m\u001b[43mmodel\u001b[49m\u001b[38;5;241;43m.\u001b[39;49m\u001b[43moutput\u001b[49m\u001b[43m]\u001b[49m\u001b[43m)\u001b[49m\n\u001b[0;32m     22\u001b[0m     \u001b[38;5;66;03m# Then, we compute the gradient of the top predicted class for our input image\u001b[39;00m\n\u001b[0;32m     23\u001b[0m     \u001b[38;5;66;03m# with respect to the activations of the last conv layer\u001b[39;00m\n\u001b[0;32m     24\u001b[0m     \u001b[38;5;28;01mwith\u001b[39;00m tf\u001b[38;5;241m.\u001b[39mGradientTape() \u001b[38;5;28;01mas\u001b[39;00m tape:\n",
      "File \u001b[1;32m~\\anaconda3\\envs\\DL_env\\lib\\site-packages\\tensorflow\\python\\training\\tracking\\base.py:587\u001b[0m, in \u001b[0;36mno_automatic_dependency_tracking.<locals>._method_wrapper\u001b[1;34m(self, *args, **kwargs)\u001b[0m\n\u001b[0;32m    585\u001b[0m \u001b[38;5;28mself\u001b[39m\u001b[38;5;241m.\u001b[39m_self_setattr_tracking \u001b[38;5;241m=\u001b[39m \u001b[38;5;28;01mFalse\u001b[39;00m  \u001b[38;5;66;03m# pylint: disable=protected-access\u001b[39;00m\n\u001b[0;32m    586\u001b[0m \u001b[38;5;28;01mtry\u001b[39;00m:\n\u001b[1;32m--> 587\u001b[0m   result \u001b[38;5;241m=\u001b[39m \u001b[43mmethod\u001b[49m\u001b[43m(\u001b[49m\u001b[38;5;28;43mself\u001b[39;49m\u001b[43m,\u001b[49m\u001b[43m \u001b[49m\u001b[38;5;241;43m*\u001b[39;49m\u001b[43margs\u001b[49m\u001b[43m,\u001b[49m\u001b[43m \u001b[49m\u001b[38;5;241;43m*\u001b[39;49m\u001b[38;5;241;43m*\u001b[39;49m\u001b[43mkwargs\u001b[49m\u001b[43m)\u001b[49m\n\u001b[0;32m    588\u001b[0m \u001b[38;5;28;01mfinally\u001b[39;00m:\n\u001b[0;32m    589\u001b[0m   \u001b[38;5;28mself\u001b[39m\u001b[38;5;241m.\u001b[39m_self_setattr_tracking \u001b[38;5;241m=\u001b[39m previous_value  \u001b[38;5;66;03m# pylint: disable=protected-access\u001b[39;00m\n",
      "File \u001b[1;32m~\\anaconda3\\envs\\DL_env\\lib\\site-packages\\keras\\engine\\functional.py:148\u001b[0m, in \u001b[0;36mFunctional.__init__\u001b[1;34m(self, inputs, outputs, name, trainable, **kwargs)\u001b[0m\n\u001b[0;32m    145\u001b[0m   \u001b[38;5;28;01mif\u001b[39;00m \u001b[38;5;129;01mnot\u001b[39;00m \u001b[38;5;28mall\u001b[39m([functional_utils\u001b[38;5;241m.\u001b[39mis_input_keras_tensor(t)\n\u001b[0;32m    146\u001b[0m               \u001b[38;5;28;01mfor\u001b[39;00m t \u001b[38;5;129;01min\u001b[39;00m tf\u001b[38;5;241m.\u001b[39mnest\u001b[38;5;241m.\u001b[39mflatten(inputs)]):\n\u001b[0;32m    147\u001b[0m     inputs, outputs \u001b[38;5;241m=\u001b[39m functional_utils\u001b[38;5;241m.\u001b[39mclone_graph_nodes(inputs, outputs)\n\u001b[1;32m--> 148\u001b[0m \u001b[38;5;28;43mself\u001b[39;49m\u001b[38;5;241;43m.\u001b[39;49m\u001b[43m_init_graph_network\u001b[49m\u001b[43m(\u001b[49m\u001b[43minputs\u001b[49m\u001b[43m,\u001b[49m\u001b[43m \u001b[49m\u001b[43moutputs\u001b[49m\u001b[43m)\u001b[49m\n",
      "File \u001b[1;32m~\\anaconda3\\envs\\DL_env\\lib\\site-packages\\tensorflow\\python\\training\\tracking\\base.py:587\u001b[0m, in \u001b[0;36mno_automatic_dependency_tracking.<locals>._method_wrapper\u001b[1;34m(self, *args, **kwargs)\u001b[0m\n\u001b[0;32m    585\u001b[0m \u001b[38;5;28mself\u001b[39m\u001b[38;5;241m.\u001b[39m_self_setattr_tracking \u001b[38;5;241m=\u001b[39m \u001b[38;5;28;01mFalse\u001b[39;00m  \u001b[38;5;66;03m# pylint: disable=protected-access\u001b[39;00m\n\u001b[0;32m    586\u001b[0m \u001b[38;5;28;01mtry\u001b[39;00m:\n\u001b[1;32m--> 587\u001b[0m   result \u001b[38;5;241m=\u001b[39m \u001b[43mmethod\u001b[49m\u001b[43m(\u001b[49m\u001b[38;5;28;43mself\u001b[39;49m\u001b[43m,\u001b[49m\u001b[43m \u001b[49m\u001b[38;5;241;43m*\u001b[39;49m\u001b[43margs\u001b[49m\u001b[43m,\u001b[49m\u001b[43m \u001b[49m\u001b[38;5;241;43m*\u001b[39;49m\u001b[38;5;241;43m*\u001b[39;49m\u001b[43mkwargs\u001b[49m\u001b[43m)\u001b[49m\n\u001b[0;32m    588\u001b[0m \u001b[38;5;28;01mfinally\u001b[39;00m:\n\u001b[0;32m    589\u001b[0m   \u001b[38;5;28mself\u001b[39m\u001b[38;5;241m.\u001b[39m_self_setattr_tracking \u001b[38;5;241m=\u001b[39m previous_value  \u001b[38;5;66;03m# pylint: disable=protected-access\u001b[39;00m\n",
      "File \u001b[1;32m~\\anaconda3\\envs\\DL_env\\lib\\site-packages\\keras\\engine\\functional.py:232\u001b[0m, in \u001b[0;36mFunctional._init_graph_network\u001b[1;34m(self, inputs, outputs)\u001b[0m\n\u001b[0;32m    229\u001b[0m   \u001b[38;5;28mself\u001b[39m\u001b[38;5;241m.\u001b[39m_input_coordinates\u001b[38;5;241m.\u001b[39mappend((layer, node_index, tensor_index))\n\u001b[0;32m    231\u001b[0m \u001b[38;5;66;03m# Keep track of the network's nodes and layers.\u001b[39;00m\n\u001b[1;32m--> 232\u001b[0m nodes, nodes_by_depth, layers, _ \u001b[38;5;241m=\u001b[39m \u001b[43m_map_graph_network\u001b[49m\u001b[43m(\u001b[49m\n\u001b[0;32m    233\u001b[0m \u001b[43m    \u001b[49m\u001b[38;5;28;43mself\u001b[39;49m\u001b[38;5;241;43m.\u001b[39;49m\u001b[43minputs\u001b[49m\u001b[43m,\u001b[49m\u001b[43m \u001b[49m\u001b[38;5;28;43mself\u001b[39;49m\u001b[38;5;241;43m.\u001b[39;49m\u001b[43moutputs\u001b[49m\u001b[43m)\u001b[49m\n\u001b[0;32m    234\u001b[0m \u001b[38;5;28mself\u001b[39m\u001b[38;5;241m.\u001b[39m_network_nodes \u001b[38;5;241m=\u001b[39m nodes\n\u001b[0;32m    235\u001b[0m \u001b[38;5;28mself\u001b[39m\u001b[38;5;241m.\u001b[39m_nodes_by_depth \u001b[38;5;241m=\u001b[39m nodes_by_depth\n",
      "File \u001b[1;32m~\\anaconda3\\envs\\DL_env\\lib\\site-packages\\keras\\engine\\functional.py:998\u001b[0m, in \u001b[0;36m_map_graph_network\u001b[1;34m(inputs, outputs)\u001b[0m\n\u001b[0;32m    996\u001b[0m \u001b[38;5;28;01mfor\u001b[39;00m x \u001b[38;5;129;01min\u001b[39;00m tf\u001b[38;5;241m.\u001b[39mnest\u001b[38;5;241m.\u001b[39mflatten(node\u001b[38;5;241m.\u001b[39mkeras_inputs):\n\u001b[0;32m    997\u001b[0m   \u001b[38;5;28;01mif\u001b[39;00m \u001b[38;5;28mid\u001b[39m(x) \u001b[38;5;129;01mnot\u001b[39;00m \u001b[38;5;129;01min\u001b[39;00m computable_tensors:\n\u001b[1;32m--> 998\u001b[0m     \u001b[38;5;28;01mraise\u001b[39;00m \u001b[38;5;167;01mValueError\u001b[39;00m(\n\u001b[0;32m    999\u001b[0m         \u001b[38;5;124mf\u001b[39m\u001b[38;5;124m'\u001b[39m\u001b[38;5;124mGraph disconnected: cannot obtain value for tensor \u001b[39m\u001b[38;5;132;01m{\u001b[39;00mx\u001b[38;5;132;01m}\u001b[39;00m\u001b[38;5;124m \u001b[39m\u001b[38;5;124m'\u001b[39m\n\u001b[0;32m   1000\u001b[0m         \u001b[38;5;124mf\u001b[39m\u001b[38;5;124m'\u001b[39m\u001b[38;5;124mat layer \u001b[39m\u001b[38;5;124m\"\u001b[39m\u001b[38;5;132;01m{\u001b[39;00mlayer\u001b[38;5;241m.\u001b[39mname\u001b[38;5;132;01m}\u001b[39;00m\u001b[38;5;124m\"\u001b[39m\u001b[38;5;124m. The following previous layers \u001b[39m\u001b[38;5;124m'\u001b[39m\n\u001b[0;32m   1001\u001b[0m         \u001b[38;5;124mf\u001b[39m\u001b[38;5;124m'\u001b[39m\u001b[38;5;124mwere accessed without issue: \u001b[39m\u001b[38;5;132;01m{\u001b[39;00mlayers_with_complete_input\u001b[38;5;132;01m}\u001b[39;00m\u001b[38;5;124m'\u001b[39m)\n\u001b[0;32m   1002\u001b[0m \u001b[38;5;28;01mfor\u001b[39;00m x \u001b[38;5;129;01min\u001b[39;00m tf\u001b[38;5;241m.\u001b[39mnest\u001b[38;5;241m.\u001b[39mflatten(node\u001b[38;5;241m.\u001b[39moutputs):\n\u001b[0;32m   1003\u001b[0m   computable_tensors\u001b[38;5;241m.\u001b[39madd(\u001b[38;5;28mid\u001b[39m(x))\n",
      "\u001b[1;31mValueError\u001b[0m: Graph disconnected: cannot obtain value for tensor KerasTensor(type_spec=TensorSpec(shape=(None, 224, 224, 3), dtype=tf.float32, name='input_1'), name='input_1', description=\"created by layer 'input_1'\") at layer \"rescaling\". The following previous layers were accessed without issue: []"
     ]
    }
   ],
   "source": [
    "df = generating_dataset()"
   ]
  },
  {
   "cell_type": "code",
   "execution_count": null,
   "id": "91c1936b",
   "metadata": {},
   "outputs": [],
   "source": [
    "df.head(15)"
   ]
  },
  {
   "cell_type": "code",
   "execution_count": 35,
   "id": "8d96cb3e",
   "metadata": {},
   "outputs": [
    {
     "data": {
      "text/html": [
       "<div>\n",
       "<style scoped>\n",
       "    .dataframe tbody tr th:only-of-type {\n",
       "        vertical-align: middle;\n",
       "    }\n",
       "\n",
       "    .dataframe tbody tr th {\n",
       "        vertical-align: top;\n",
       "    }\n",
       "\n",
       "    .dataframe thead th {\n",
       "        text-align: right;\n",
       "    }\n",
       "</style>\n",
       "<table border=\"1\" class=\"dataframe\">\n",
       "  <thead>\n",
       "    <tr style=\"text-align: right;\">\n",
       "      <th></th>\n",
       "      <th>Case</th>\n",
       "      <th>Total Tumor Cells</th>\n",
       "      <th>Pred. Type</th>\n",
       "      <th>Probability (%)</th>\n",
       "      <th>Tumors Found</th>\n",
       "      <th>Interpret. Region Accuracy (%)</th>\n",
       "    </tr>\n",
       "  </thead>\n",
       "  <tbody>\n",
       "  </tbody>\n",
       "</table>\n",
       "</div>"
      ],
      "text/plain": [
       "Empty DataFrame\n",
       "Columns: [Case, Total Tumor Cells, Pred. Type, Probability (%), Tumors Found, Interpret. Region Accuracy (%)]\n",
       "Index: []"
      ]
     },
     "execution_count": 35,
     "metadata": {},
     "output_type": "execute_result"
    }
   ],
   "source": [
    "\n",
    "df[df['Interpret. Region Accuracy (%)'] > 90]"
   ]
  },
  {
   "cell_type": "code",
   "execution_count": 36,
   "id": "e6455015",
   "metadata": {},
   "outputs": [
    {
     "name": "stdout",
     "output_type": "stream",
     "text": [
      "Model Average Interpretability (%): 0.0 +/- nan\n"
     ]
    }
   ],
   "source": [
    "\n",
    "# Interpretability\n",
    "\n",
    "summ = df[df['Pred. Type'] == 'malignant']['Interpret. Region Accuracy (%)'].sum()\n",
    "stdd = df[df['Pred. Type'] == 'malignant']['Interpret. Region Accuracy (%)'].std()\n",
    "itp_model = round(summ/159, 2)\n",
    "std_deviation = round(stdd/159, 2)\n",
    "\n",
    "print(f'Model Average Interpretability (%): {itp_model} +/- {std_deviation}')"
   ]
  },
  {
   "cell_type": "code",
   "execution_count": null,
   "id": "dd1d4fbe",
   "metadata": {},
   "outputs": [],
   "source": []
  }
 ],
 "metadata": {
  "kernelspec": {
   "display_name": "Python 3 (ipykernel)",
   "language": "python",
   "name": "python3"
  },
  "language_info": {
   "codemirror_mode": {
    "name": "ipython",
    "version": 3
   },
   "file_extension": ".py",
   "mimetype": "text/x-python",
   "name": "python",
   "nbconvert_exporter": "python",
   "pygments_lexer": "ipython3",
   "version": "3.8.13"
  }
 },
 "nbformat": 4,
 "nbformat_minor": 5
}
