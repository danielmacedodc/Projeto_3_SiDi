{
 "cells": [
  {
   "cell_type": "markdown",
   "id": "3f85ff48",
   "metadata": {},
   "source": [
    "# **Breast Cancer - Comparative Analysis (Explainability with GradCAM) - MobileNetV3Small**\n",
    "\n",
    "Dataset (Train and Validation) link: https://web.inf.ufpr.br/vri/databases/breast-cancer-histopathological-database-breakhis/\n",
    "\n",
    "Annotated Dataset (Test) link: https://figshare.com/articles/dataset/BreCaHAD_A_Dataset_for_Breast_Cancer_Histopathological_Annotation_and_Diagnosis/7379186?file=13646369\n",
    "\n",
    "Note: The test set only contains malignant class images.\n",
    "\n",
    "The following project will focus on finding the architecture (used with GradCAM) with the best explainability efficiency. The proposed architectures for this experiment are:\n",
    "* EfficientNetB0\n",
    "* VisionTrasformer\n",
    "* DenseNet201\n",
    "* NasNetLarge\n",
    "* MobileNetV3Large/MobileNetV3Small\n",
    "\n",
    "This notebook represents one of the five which will run experiments with images where the Visual Magnification factor is 400x - MobileNetV3Small.   "
   ]
  },
  {
   "cell_type": "code",
   "execution_count": 1,
   "id": "7623967f",
   "metadata": {},
   "outputs": [],
   "source": [
    "import numpy as np\n",
    "import pandas as pd\n",
    "import seaborn as sns\n",
    "import matplotlib.pyplot as plt\n",
    "import json\n",
    "\n",
    "import os\n",
    "import random\n",
    "from random import random, randint, seed\n",
    "import pickle\n",
    "import pathlib\n",
    "import warnings\n",
    "import platform\n",
    "\n",
    "import cv2\n",
    "import tensorflow as tf\n",
    "from tensorflow import keras\n",
    "import tensorflow.keras.backend as K\n",
    "from tensorflow.keras.applications import densenet, MobileNetV3Large, MobileNetV3Small, efficientnet, nasnet\n",
    "from tensorflow.keras.optimizers import SGD, Adam\n",
    "from tensorflow.keras import layers\n",
    "from tensorflow.keras.models import Model\n",
    "from tensorflow.keras.layers import Input\n",
    "from tensorflow.keras.layers import Conv2D\n",
    "from tensorflow.keras.layers import Dense\n",
    "from tensorflow.keras.layers import Dropout\n",
    "from tensorflow.keras.layers import GlobalAveragePooling2D\n",
    "from tensorflow.keras.layers import BatchNormalization\n",
    "from tensorflow.keras.layers import MaxPooling2D\n",
    "from tensorflow.keras.layers import Lambda\n",
    "from tensorflow.keras.models import load_model\n",
    "from tensorflow.keras import Sequential\n",
    "from tensorflow.keras.preprocessing.image import ImageDataGenerator\n",
    "from sklearn.metrics import classification_report, confusion_matrix"
   ]
  },
  {
   "cell_type": "code",
   "execution_count": 2,
   "id": "30a7ac59",
   "metadata": {},
   "outputs": [
    {
     "name": "stdout",
     "output_type": "stream",
     "text": [
      "Python- Versão:  3.8.13\n",
      "TensorFLow - Versão:  2.9.1\n",
      "Dispositivo GPU padrão: /device:GPU:0\n",
      "Número de GPUs Disponíveis:  1\n"
     ]
    }
   ],
   "source": [
    "print(\"Python- Versão: \", platform.python_version())\n",
    "print(\"TensorFLow - Versão: \",tf.__version__)\n",
    "\n",
    "# Checar GPUs\n",
    "if not tf.test.gpu_device_name():\n",
    "    warnings.warn('GPU não encontrada.')\n",
    "else:\n",
    "    print(f'Dispositivo GPU padrão: {tf.test.gpu_device_name()}')\n",
    "    print(\"Número de GPUs Disponíveis: \", len(tf.config.list_physical_devices('GPU')))\n"
   ]
  },
  {
   "cell_type": "code",
   "execution_count": 3,
   "id": "b2b164b9",
   "metadata": {},
   "outputs": [
    {
     "name": "stdout",
     "output_type": "stream",
     "text": [
      "Existem 1037 imagens em  SiDi_BreakHis400x_train_val/dataset\\train_set\\benign.\n",
      "Existem 1037 imagens em  SiDi_BreakHis400x_train_val/dataset\\train_set\\malignant.\n",
      "Existem 180 imagens em  SiDi_BreakHis400x_train_val/dataset\\validation_set\\benign.\n",
      "Existem 180 imagens em  SiDi_BreakHis400x_train_val/dataset\\validation_set\\malignant.\n"
     ]
    }
   ],
   "source": [
    "for dirpath, dirnames, filenames in os.walk('SiDi_BreakHis400x_train_val/dataset'):\n",
    "    if len(filenames)!=0:\n",
    "        print(f'Existem {len(filenames)} imagens em  {dirpath}.')\n"
   ]
  },
  {
   "cell_type": "code",
   "execution_count": 4,
   "id": "b9ebe3fe",
   "metadata": {},
   "outputs": [],
   "source": [
    "train_dir = 'SiDi_BreakHis400x_train_val/dataset/train_set/'\n",
    "val_dir = 'SiDi_BreakHis400x_train_val/dataset/validation_set/'\n",
    "test_dir = 'SiDi_BreCaHAD_test/dataset'\n",
    "\n",
    "# Especificações para o treinamento da rede\n",
    "IMG_SHAPE = (224, 224, 3)\n",
    "BATCH_SIZE = 32\n",
    "EPOCHS = 100"
   ]
  },
  {
   "cell_type": "code",
   "execution_count": 5,
   "id": "37e2ebd5",
   "metadata": {},
   "outputs": [
    {
     "name": "stdout",
     "output_type": "stream",
     "text": [
      "Found 2074 images belonging to 2 classes.\n",
      "Found 360 images belonging to 2 classes.\n",
      "Found 159 images belonging to 2 classes.\n"
     ]
    }
   ],
   "source": [
    "train_datagen = ImageDataGenerator(rescale=None)\n",
    "valid_datagen = ImageDataGenerator(rescale=None)\n",
    "test_datagen = ImageDataGenerator(rescale=None)\n",
    "\n",
    "train_data = train_datagen.flow_from_directory(train_dir,\n",
    "                                               batch_size=BATCH_SIZE,  \n",
    "                                               target_size=(224, 224), \n",
    "                                               class_mode=\"binary\")\n",
    "\n",
    "val_data = valid_datagen.flow_from_directory(val_dir,\n",
    "                                               batch_size=BATCH_SIZE,  \n",
    "                                               target_size=(224, 224), \n",
    "                                               class_mode=\"binary\")\n",
    "\n",
    "test_data = test_datagen.flow_from_directory(test_dir,\n",
    "                                               batch_size=BATCH_SIZE,  \n",
    "                                               target_size=(224, 224), \n",
    "                                               class_mode=\"binary\")"
   ]
  },
  {
   "cell_type": "code",
   "execution_count": 6,
   "id": "e9e4ef89",
   "metadata": {},
   "outputs": [
    {
     "name": "stdout",
     "output_type": "stream",
     "text": [
      "Downloading data from https://storage.googleapis.com/tensorflow/keras-applications/mobilenet_v3/weights_mobilenet_v3_small_224_1.0_float_no_top_v2.h5\n",
      "4334752/4334752 [==============================] - 1s 0us/step\n"
     ]
    }
   ],
   "source": [
    " # include_top=False retira a camada do topo, ou seja, a camada densa do modelo original\n",
    "basemodel = MobileNetV3Small(include_top=False,\n",
    "                                 weights='imagenet',\n",
    "                                 input_shape=IMG_SHAPE,\n",
    "                                 pooling='max')\n",
    "# Note que a última camada de convolução termina com a operação de GlobalMaxPooling2D(dependendo do modelo poderia ser a Flatten)\n",
    "# Assim, podemos adicionar a saída do baseModel diretamente na camada densa\n",
    "# basemodel.summary()"
   ]
  },
  {
   "cell_type": "code",
   "execution_count": 7,
   "id": "e839eff6",
   "metadata": {},
   "outputs": [],
   "source": [
    "# Criar a arquitetura da camada densa do modelo para o Fine Tuning\n",
    "inputs = Input(shape=IMG_SHAPE)\n",
    "\n",
    "x = tf.cast(inputs, tf.float32)\n",
    "x = tf.keras.applications.mobilenet_v3.preprocess_input(x)\n",
    "\n",
    "x = basemodel(x)\n",
    "\n",
    "x = Dense(256, activation=\"relu\")(x)\n",
    "x = Dropout(0.2)(x)\n",
    "\n",
    "x = BatchNormalization()(x)\n",
    "x = Dense(128, activation=\"relu\")(x)\n",
    "x = Dropout(0.2)(x)\n",
    "\n",
    "x = BatchNormalization()(x)\n",
    "x = Dense(64, activation=\"relu\")(x)\n",
    "x = Dropout(0.2)(x)\n",
    "\n",
    "x = BatchNormalization()(x)\n",
    "x = Dense(32, activation=\"relu\")(x)\n",
    "x = Dropout(0.2)(x)\n",
    "\n",
    "\n",
    "outputs = Dense(1, activation=\"sigmoid\")(x)\n",
    "\n",
    "model = Model(inputs, outputs)"
   ]
  },
  {
   "cell_type": "code",
   "execution_count": 8,
   "id": "27b5f377",
   "metadata": {},
   "outputs": [
    {
     "name": "stdout",
     "output_type": "stream",
     "text": [
      "Model: \"model\"\n",
      "_________________________________________________________________\n",
      " Layer (type)                Output Shape              Param #   \n",
      "=================================================================\n",
      " input_2 (InputLayer)        [(None, 224, 224, 3)]     0         \n",
      "                                                                 \n",
      " tf.cast (TFOpLambda)        (None, 224, 224, 3)       0         \n",
      "                                                                 \n",
      " MobilenetV3small (Functiona  (None, 576)              939120    \n",
      " l)                                                              \n",
      "                                                                 \n",
      " dense (Dense)               (None, 256)               147712    \n",
      "                                                                 \n",
      " dropout (Dropout)           (None, 256)               0         \n",
      "                                                                 \n",
      " batch_normalization (BatchN  (None, 256)              1024      \n",
      " ormalization)                                                   \n",
      "                                                                 \n",
      " dense_1 (Dense)             (None, 128)               32896     \n",
      "                                                                 \n",
      " dropout_1 (Dropout)         (None, 128)               0         \n",
      "                                                                 \n",
      " batch_normalization_1 (Batc  (None, 128)              512       \n",
      " hNormalization)                                                 \n",
      "                                                                 \n",
      " dense_2 (Dense)             (None, 64)                8256      \n",
      "                                                                 \n",
      " dropout_2 (Dropout)         (None, 64)                0         \n",
      "                                                                 \n",
      " batch_normalization_2 (Batc  (None, 64)               256       \n",
      " hNormalization)                                                 \n",
      "                                                                 \n",
      " dense_3 (Dense)             (None, 32)                2080      \n",
      "                                                                 \n",
      " dropout_3 (Dropout)         (None, 32)                0         \n",
      "                                                                 \n",
      " dense_4 (Dense)             (None, 1)                 33        \n",
      "                                                                 \n",
      "=================================================================\n",
      "Total params: 1,131,889\n",
      "Trainable params: 1,118,881\n",
      "Non-trainable params: 13,008\n",
      "_________________________________________________________________\n"
     ]
    }
   ],
   "source": [
    "model.summary()"
   ]
  },
  {
   "cell_type": "markdown",
   "id": "a1268af2",
   "metadata": {},
   "source": [
    "## Fine Tuning - Fase 1 (warm up) -> treina apenas a camada densa"
   ]
  },
  {
   "cell_type": "code",
   "execution_count": 9,
   "id": "fa58a144",
   "metadata": {},
   "outputs": [],
   "source": [
    "# Congela as camadas do modelo base (as camadas de convolução não serão treinadas novamente)\n",
    "for layer in basemodel.layers:\n",
    "    layer.trainable = False  "
   ]
  },
  {
   "cell_type": "code",
   "execution_count": 10,
   "id": "e0bb1d43",
   "metadata": {},
   "outputs": [],
   "source": [
    "base_learning_rate = 0.0001\n",
    "opt = Adam(learning_rate=base_learning_rate)\n",
    "# binary -> binary_crossentropy; categorical -> categorical_crossentropy\n",
    "model.compile(loss=\"binary_crossentropy\", optimizer=opt, metrics=[\"accuracy\"]) "
   ]
  },
  {
   "cell_type": "code",
   "execution_count": 11,
   "id": "053f4ae7",
   "metadata": {},
   "outputs": [],
   "source": [
    "# Early Stopping do trinamento\n",
    "early_stop = keras.callbacks.EarlyStopping(\n",
    "    monitor = 'val_loss', \n",
    "    min_delta=0.001, \n",
    "    patience=7\n",
    ")\n",
    "\n",
    "model_ckpt = keras.callbacks.ModelCheckpoint(\n",
    "    filepath='callbacks/melhor_modelo_MobileNetV3Large_ft.hdf5', \n",
    "    monitor='val_loss', \n",
    "    save_best_only=True\n",
    ")\n",
    "\n",
    "callbacks = [early_stop, model_ckpt]"
   ]
  },
  {
   "cell_type": "code",
   "execution_count": 12,
   "id": "274eb4d3",
   "metadata": {},
   "outputs": [
    {
     "name": "stdout",
     "output_type": "stream",
     "text": [
      "Epoch 1/40\n",
      "65/65 [==============================] - 43s 539ms/step - loss: 0.7082 - accuracy: 0.6191 - val_loss: 0.7217 - val_accuracy: 0.5250\n",
      "Epoch 2/40\n",
      "65/65 [==============================] - 23s 359ms/step - loss: 0.6094 - accuracy: 0.6958 - val_loss: 0.7489 - val_accuracy: 0.5056\n",
      "Epoch 3/40\n",
      "65/65 [==============================] - 23s 353ms/step - loss: 0.5513 - accuracy: 0.7276 - val_loss: 0.7484 - val_accuracy: 0.5111\n",
      "Epoch 4/40\n",
      "65/65 [==============================] - 24s 362ms/step - loss: 0.5086 - accuracy: 0.7536 - val_loss: 0.7283 - val_accuracy: 0.5444\n",
      "Epoch 5/40\n",
      "65/65 [==============================] - 24s 363ms/step - loss: 0.4756 - accuracy: 0.7811 - val_loss: 0.6942 - val_accuracy: 0.5778\n",
      "Epoch 6/40\n",
      "65/65 [==============================] - 23s 354ms/step - loss: 0.4626 - accuracy: 0.7801 - val_loss: 0.7115 - val_accuracy: 0.5667\n",
      "Epoch 7/40\n",
      "65/65 [==============================] - 23s 361ms/step - loss: 0.4433 - accuracy: 0.7777 - val_loss: 0.6802 - val_accuracy: 0.6028\n",
      "Epoch 8/40\n",
      "65/65 [==============================] - 23s 356ms/step - loss: 0.4300 - accuracy: 0.7936 - val_loss: 0.6801 - val_accuracy: 0.6056\n",
      "Epoch 9/40\n",
      "65/65 [==============================] - 24s 367ms/step - loss: 0.4207 - accuracy: 0.7927 - val_loss: 0.6473 - val_accuracy: 0.6361\n",
      "Epoch 10/40\n",
      "65/65 [==============================] - 24s 361ms/step - loss: 0.4008 - accuracy: 0.8187 - val_loss: 0.6293 - val_accuracy: 0.6611\n",
      "Epoch 11/40\n",
      "65/65 [==============================] - 24s 365ms/step - loss: 0.3843 - accuracy: 0.8226 - val_loss: 0.6085 - val_accuracy: 0.6722\n",
      "Epoch 12/40\n",
      "65/65 [==============================] - 23s 360ms/step - loss: 0.3698 - accuracy: 0.8288 - val_loss: 0.6209 - val_accuracy: 0.6556\n",
      "Epoch 13/40\n",
      "65/65 [==============================] - 23s 357ms/step - loss: 0.3477 - accuracy: 0.8346 - val_loss: 0.6322 - val_accuracy: 0.6528\n",
      "Epoch 14/40\n",
      "65/65 [==============================] - 23s 354ms/step - loss: 0.3420 - accuracy: 0.8447 - val_loss: 0.6106 - val_accuracy: 0.6722\n",
      "Epoch 15/40\n",
      "65/65 [==============================] - 23s 349ms/step - loss: 0.3421 - accuracy: 0.8452 - val_loss: 0.6176 - val_accuracy: 0.6944\n",
      "Epoch 16/40\n",
      "65/65 [==============================] - 23s 353ms/step - loss: 0.3255 - accuracy: 0.8433 - val_loss: 0.5613 - val_accuracy: 0.7333\n",
      "Epoch 17/40\n",
      "65/65 [==============================] - 24s 363ms/step - loss: 0.3024 - accuracy: 0.8631 - val_loss: 0.5579 - val_accuracy: 0.7250\n",
      "Epoch 18/40\n",
      "65/65 [==============================] - 23s 361ms/step - loss: 0.3006 - accuracy: 0.8597 - val_loss: 0.5673 - val_accuracy: 0.7361\n",
      "Epoch 19/40\n",
      "65/65 [==============================] - 24s 361ms/step - loss: 0.3058 - accuracy: 0.8626 - val_loss: 0.5536 - val_accuracy: 0.7500\n",
      "Epoch 20/40\n",
      "65/65 [==============================] - 24s 366ms/step - loss: 0.3021 - accuracy: 0.8693 - val_loss: 0.5441 - val_accuracy: 0.7694\n",
      "Epoch 21/40\n",
      "65/65 [==============================] - 23s 355ms/step - loss: 0.2830 - accuracy: 0.8790 - val_loss: 0.5871 - val_accuracy: 0.7361\n",
      "Epoch 22/40\n",
      "65/65 [==============================] - 23s 356ms/step - loss: 0.2733 - accuracy: 0.8862 - val_loss: 0.5732 - val_accuracy: 0.7500\n",
      "Epoch 23/40\n",
      "65/65 [==============================] - 23s 358ms/step - loss: 0.2727 - accuracy: 0.8833 - val_loss: 0.5261 - val_accuracy: 0.7667\n",
      "Epoch 24/40\n",
      "65/65 [==============================] - 23s 357ms/step - loss: 0.2585 - accuracy: 0.8881 - val_loss: 0.5170 - val_accuracy: 0.7639\n",
      "Epoch 25/40\n",
      "65/65 [==============================] - 23s 358ms/step - loss: 0.2594 - accuracy: 0.8877 - val_loss: 0.4855 - val_accuracy: 0.7917\n",
      "Epoch 26/40\n",
      "65/65 [==============================] - 25s 382ms/step - loss: 0.2626 - accuracy: 0.8843 - val_loss: 0.5386 - val_accuracy: 0.7444\n",
      "Epoch 27/40\n",
      "65/65 [==============================] - 23s 358ms/step - loss: 0.2385 - accuracy: 0.8939 - val_loss: 0.5427 - val_accuracy: 0.7639\n",
      "Epoch 28/40\n",
      "65/65 [==============================] - 24s 362ms/step - loss: 0.2372 - accuracy: 0.9012 - val_loss: 0.5461 - val_accuracy: 0.7556\n",
      "Epoch 29/40\n",
      "65/65 [==============================] - 23s 355ms/step - loss: 0.2109 - accuracy: 0.9084 - val_loss: 0.5331 - val_accuracy: 0.7750\n",
      "Epoch 30/40\n",
      "65/65 [==============================] - 24s 362ms/step - loss: 0.2091 - accuracy: 0.9147 - val_loss: 0.5496 - val_accuracy: 0.7528\n",
      "Epoch 31/40\n",
      "65/65 [==============================] - 23s 356ms/step - loss: 0.2117 - accuracy: 0.9156 - val_loss: 0.5255 - val_accuracy: 0.7722\n",
      "Epoch 32/40\n",
      "65/65 [==============================] - 23s 357ms/step - loss: 0.2055 - accuracy: 0.9166 - val_loss: 0.5888 - val_accuracy: 0.7694\n"
     ]
    }
   ],
   "source": [
    "# Fase 1 - treina apenas com algumas épocas (40% do total)\n",
    "initial_epochs = int(EPOCHS*0.4)\n",
    "history = model.fit(train_data,\n",
    "                    epochs=initial_epochs,\n",
    "                    steps_per_epoch=len(train_data),\n",
    "                    validation_data=val_data,\n",
    "                    validation_steps=len(val_data), \n",
    "                    callbacks=callbacks)"
   ]
  },
  {
   "cell_type": "code",
   "execution_count": 13,
   "id": "28fb10bc",
   "metadata": {},
   "outputs": [
    {
     "data": {
      "image/png": "[encoded data removed]",
      "text/plain": [
       "<Figure size 576x576 with 2 Axes>"
      ]
     },
     "metadata": {
      "needs_background": "light"
     },
     "output_type": "display_data"
    }
   ],
   "source": [
    "acc = history.history['accuracy']\n",
    "val_acc = history.history['val_accuracy']\n",
    "\n",
    "loss = history.history['loss']\n",
    "val_loss = history.history['val_loss']\n",
    "\n",
    "plt.figure(figsize=(8, 8))\n",
    "plt.subplot(2, 1, 1)\n",
    "plt.plot(acc, label='Training Accuracy')\n",
    "plt.plot(val_acc, label='Validation Accuracy')\n",
    "plt.legend(loc='lower right')\n",
    "plt.ylabel('Accuracy')\n",
    "plt.ylim([min(plt.ylim()),1])\n",
    "plt.title('Training and Validation Accuracy')\n",
    "\n",
    "plt.subplot(2, 1, 2)\n",
    "plt.plot(loss, label='Training Loss')\n",
    "plt.plot(val_loss, label='Validation Loss')\n",
    "plt.legend(loc='upper right')\n",
    "plt.ylabel('Cross Entropy')\n",
    "plt.ylim([0,1.0])\n",
    "plt.title('Training and Validation Loss')\n",
    "plt.xlabel('epoch')\n",
    "plt.show()"
   ]
  },
  {
   "cell_type": "markdown",
   "id": "9db89e4d",
   "metadata": {},
   "source": [
    "## Fine Tuning - Fase 2 -> treina todo o modelo do fine tuning - descongela as camadas de convolução"
   ]
  },
  {
   "cell_type": "code",
   "execution_count": 14,
   "id": "ec494850",
   "metadata": {},
   "outputs": [
    {
     "name": "stdout",
     "output_type": "stream",
     "text": [
      "Número de camadas do modelo base:  230\n"
     ]
    }
   ],
   "source": [
    "print(\"Número de camadas do modelo base: \", len(basemodel.layers))"
   ]
  },
  {
   "cell_type": "code",
   "execution_count": 15,
   "id": "a0301315",
   "metadata": {},
   "outputs": [],
   "source": [
    "# Descongelar as 30% camadas finais e que não seja do tipo BatchNormalization do modelo base\n",
    "# Note que vpcê pode adicionar mais camadas se o modelo não for muito grande\n",
    "count = 0\n",
    "for layer in basemodel.layers[-int(len(basemodel.layers)*0.3):]:\n",
    "    if not isinstance(layer, layers.BatchNormalization):\n",
    "        layer.trainable = True"
   ]
  },
  {
   "cell_type": "code",
   "execution_count": 16,
   "id": "ba855c0d",
   "metadata": {},
   "outputs": [],
   "source": [
    "# É necessário diminuir a base_learning_rate para que o modelo não tenha convergência muito rápida\n",
    "# pois se trata d eum modelo grande\n",
    "opt = Adam(learning_rate=base_learning_rate/10)\n",
    "model.compile(loss=\"binary_crossentropy\", optimizer=opt, metrics=[\"accuracy\"])"
   ]
  },
  {
   "cell_type": "code",
   "execution_count": 17,
   "id": "81708a6d",
   "metadata": {},
   "outputs": [],
   "source": [
    "# EarlyStopping do trinamento\n",
    "early_stop2 = keras.callbacks.EarlyStopping(\n",
    "    monitor = 'val_loss', \n",
    "    min_delta=0.001, \n",
    "    patience=7\n",
    ")\n",
    "\n",
    "model_ckpt2 = keras.callbacks.ModelCheckpoint(\n",
    "    filepath='callbacks/melhor_modelo_MobileNetV3Large_ft.hdf5', \n",
    "    monitor='val_loss', \n",
    "    save_best_only=True\n",
    ")\n",
    "\n",
    "callbacks2 = [early_stop2, model_ckpt2]"
   ]
  },
  {
   "cell_type": "code",
   "execution_count": 18,
   "id": "788b3350",
   "metadata": {},
   "outputs": [
    {
     "name": "stdout",
     "output_type": "stream",
     "text": [
      "Epoch 32/100\n",
      "65/65 [==============================] - 28s 373ms/step - loss: 0.1947 - accuracy: 0.9219 - val_loss: 0.5747 - val_accuracy: 0.7694\n",
      "Epoch 33/100\n",
      "65/65 [==============================] - 23s 360ms/step - loss: 0.1918 - accuracy: 0.9209 - val_loss: 0.5592 - val_accuracy: 0.7694\n",
      "Epoch 34/100\n",
      "65/65 [==============================] - 23s 355ms/step - loss: 0.1774 - accuracy: 0.9315 - val_loss: 0.5513 - val_accuracy: 0.7694\n",
      "Epoch 35/100\n",
      "65/65 [==============================] - 24s 368ms/step - loss: 0.1804 - accuracy: 0.9224 - val_loss: 0.5623 - val_accuracy: 0.7639\n",
      "Epoch 36/100\n",
      "65/65 [==============================] - 25s 390ms/step - loss: 0.1649 - accuracy: 0.9373 - val_loss: 0.5492 - val_accuracy: 0.7639\n",
      "Epoch 37/100\n",
      "65/65 [==============================] - 24s 368ms/step - loss: 0.1646 - accuracy: 0.9354 - val_loss: 0.5491 - val_accuracy: 0.7694\n",
      "Epoch 38/100\n",
      "65/65 [==============================] - 23s 360ms/step - loss: 0.1702 - accuracy: 0.9397 - val_loss: 0.5566 - val_accuracy: 0.7722\n",
      "Epoch 39/100\n",
      "65/65 [==============================] - 23s 355ms/step - loss: 0.1607 - accuracy: 0.9407 - val_loss: 0.5532 - val_accuracy: 0.7694\n",
      "Epoch 40/100\n",
      "65/65 [==============================] - 25s 378ms/step - loss: 0.1450 - accuracy: 0.9446 - val_loss: 0.5456 - val_accuracy: 0.7722\n",
      "Epoch 41/100\n",
      "65/65 [==============================] - 24s 361ms/step - loss: 0.1363 - accuracy: 0.9508 - val_loss: 0.5518 - val_accuracy: 0.7694\n",
      "Epoch 42/100\n",
      "65/65 [==============================] - 23s 357ms/step - loss: 0.1384 - accuracy: 0.9503 - val_loss: 0.5545 - val_accuracy: 0.7722\n",
      "Epoch 43/100\n",
      "65/65 [==============================] - 24s 365ms/step - loss: 0.1690 - accuracy: 0.9291 - val_loss: 0.5316 - val_accuracy: 0.7778\n",
      "Epoch 44/100\n",
      "65/65 [==============================] - 23s 359ms/step - loss: 0.1464 - accuracy: 0.9465 - val_loss: 0.5322 - val_accuracy: 0.7917\n",
      "Epoch 45/100\n",
      "65/65 [==============================] - 24s 373ms/step - loss: 0.1403 - accuracy: 0.9489 - val_loss: 0.5425 - val_accuracy: 0.8000\n",
      "Epoch 46/100\n",
      "65/65 [==============================] - 23s 355ms/step - loss: 0.1474 - accuracy: 0.9417 - val_loss: 0.5398 - val_accuracy: 0.7861\n",
      "Epoch 47/100\n",
      "65/65 [==============================] - 23s 358ms/step - loss: 0.1185 - accuracy: 0.9614 - val_loss: 0.5319 - val_accuracy: 0.7917\n",
      "Epoch 48/100\n",
      "65/65 [==============================] - 23s 357ms/step - loss: 0.1353 - accuracy: 0.9518 - val_loss: 0.5248 - val_accuracy: 0.8056\n",
      "Epoch 49/100\n",
      "65/65 [==============================] - 24s 365ms/step - loss: 0.1215 - accuracy: 0.9609 - val_loss: 0.5410 - val_accuracy: 0.7944\n",
      "Epoch 50/100\n",
      "65/65 [==============================] - 23s 358ms/step - loss: 0.1437 - accuracy: 0.9465 - val_loss: 0.5381 - val_accuracy: 0.7972\n",
      "Epoch 51/100\n",
      "65/65 [==============================] - 23s 357ms/step - loss: 0.1291 - accuracy: 0.9527 - val_loss: 0.5392 - val_accuracy: 0.7944\n",
      "Epoch 52/100\n",
      "65/65 [==============================] - 23s 353ms/step - loss: 0.1257 - accuracy: 0.9556 - val_loss: 0.5250 - val_accuracy: 0.7944\n",
      "Epoch 53/100\n",
      "65/65 [==============================] - 23s 353ms/step - loss: 0.1216 - accuracy: 0.9566 - val_loss: 0.5268 - val_accuracy: 0.8000\n",
      "Epoch 54/100\n",
      "65/65 [==============================] - 23s 359ms/step - loss: 0.1175 - accuracy: 0.9590 - val_loss: 0.5047 - val_accuracy: 0.8083\n",
      "Epoch 55/100\n",
      "65/65 [==============================] - 23s 359ms/step - loss: 0.1209 - accuracy: 0.9581 - val_loss: 0.5207 - val_accuracy: 0.7972\n",
      "Epoch 56/100\n",
      "65/65 [==============================] - 23s 354ms/step - loss: 0.1145 - accuracy: 0.9619 - val_loss: 0.5159 - val_accuracy: 0.7972\n",
      "Epoch 57/100\n",
      "65/65 [==============================] - 23s 353ms/step - loss: 0.1107 - accuracy: 0.9653 - val_loss: 0.5233 - val_accuracy: 0.7972\n",
      "Epoch 58/100\n",
      "65/65 [==============================] - 23s 355ms/step - loss: 0.1029 - accuracy: 0.9677 - val_loss: 0.5072 - val_accuracy: 0.8000\n",
      "Epoch 59/100\n",
      "65/65 [==============================] - 24s 373ms/step - loss: 0.1016 - accuracy: 0.9662 - val_loss: 0.5028 - val_accuracy: 0.8056\n",
      "Epoch 60/100\n",
      "65/65 [==============================] - 25s 391ms/step - loss: 0.0952 - accuracy: 0.9740 - val_loss: 0.5249 - val_accuracy: 0.8056\n",
      "Epoch 61/100\n",
      "65/65 [==============================] - 25s 389ms/step - loss: 0.1047 - accuracy: 0.9672 - val_loss: 0.5209 - val_accuracy: 0.8083\n",
      "Epoch 62/100\n",
      "65/65 [==============================] - 26s 396ms/step - loss: 0.1008 - accuracy: 0.9682 - val_loss: 0.5027 - val_accuracy: 0.8083\n",
      "Epoch 63/100\n",
      "65/65 [==============================] - 25s 388ms/step - loss: 0.1096 - accuracy: 0.9595 - val_loss: 0.5220 - val_accuracy: 0.8056\n",
      "Epoch 64/100\n",
      "65/65 [==============================] - 25s 388ms/step - loss: 0.1050 - accuracy: 0.9643 - val_loss: 0.5337 - val_accuracy: 0.8000\n",
      "Epoch 65/100\n",
      "65/65 [==============================] - 24s 369ms/step - loss: 0.0931 - accuracy: 0.9720 - val_loss: 0.5322 - val_accuracy: 0.8000\n",
      "Epoch 66/100\n",
      "65/65 [==============================] - 24s 369ms/step - loss: 0.0957 - accuracy: 0.9720 - val_loss: 0.5358 - val_accuracy: 0.8028\n"
     ]
    }
   ],
   "source": [
    "# Fase 2 - treina apenas com a quantidade de épocas que faltam (60% finais)\n",
    "# Note que iniciará de initial_epoch=history.epoch[-1]\n",
    "history_fine = model.fit(train_data,\n",
    "                    epochs=EPOCHS,\n",
    "                    initial_epoch=history.epoch[-1],\n",
    "                    steps_per_epoch=len(train_data),\n",
    "                    validation_data=val_data,\n",
    "                    validation_steps=len(val_data), \n",
    "                    callbacks=callbacks2)"
   ]
  },
  {
   "cell_type": "code",
   "execution_count": 19,
   "id": "87057e53",
   "metadata": {},
   "outputs": [
    {
     "data": {
      "image/png": "[encoded data removed]",
      "text/plain": [
       "<Figure size 576x576 with 2 Axes>"
      ]
     },
     "metadata": {
      "needs_background": "light"
     },
     "output_type": "display_data"
    }
   ],
   "source": [
    "acc += history_fine.history['accuracy']\n",
    "val_acc += history_fine.history['val_accuracy']\n",
    "\n",
    "loss += history_fine.history['loss']\n",
    "val_loss += history_fine.history['val_loss']\n",
    "\n",
    "plt.figure(figsize=(8, 8))\n",
    "plt.subplot(2, 1, 1)\n",
    "plt.plot(acc, label='Training Accuracy')\n",
    "plt.plot(val_acc, label='Validation Accuracy')\n",
    "plt.ylim([0.4, 1.0])\n",
    "plt.plot([initial_epochs-1,initial_epochs-1],\n",
    "          plt.ylim(), label='Start Fine Tuning')\n",
    "plt.legend(loc='lower right')\n",
    "plt.title('Training and Validation Accuracy')\n",
    "\n",
    "plt.subplot(2, 1, 2)\n",
    "plt.plot(loss, label='Training Loss')\n",
    "plt.plot(val_loss, label='Validation Loss')\n",
    "plt.ylim([0, 1.0])\n",
    "plt.plot([initial_epochs-1,initial_epochs-1],\n",
    "         plt.ylim(), label='Start Fine Tuning')\n",
    "plt.legend(loc='upper right')\n",
    "plt.title('Training and Validation Loss')\n",
    "plt.xlabel('epoch')\n",
    "plt.show()"
   ]
  },
  {
   "cell_type": "code",
   "execution_count": 22,
   "id": "2652bf3d",
   "metadata": {},
   "outputs": [
    {
     "name": "stdout",
     "output_type": "stream",
     "text": [
      "5/5 [==============================] - 8s 1s/step - loss: 0.6641 - accuracy: 0.7296\n",
      "Test accuracy: 0.730\n",
      "Test loss: 0.664\n"
     ]
    }
   ],
   "source": [
    "# Avaliação usando os dados de testes\n",
    "loss, acc = model.evaluate(test_data)\n",
    "print (\"Test accuracy: %.3f\" % acc)\n",
    "print (\"Test loss: %.3f\" % loss)"
   ]
  },
  {
   "cell_type": "code",
   "execution_count": 21,
   "id": "94256750",
   "metadata": {},
   "outputs": [
    {
     "name": "stderr",
     "output_type": "stream",
     "text": [
      "WARNING:absl:Found untraced functions such as _jit_compiled_convolution_op, _jit_compiled_convolution_op, _jit_compiled_convolution_op, _jit_compiled_convolution_op, _jit_compiled_convolution_op while saving (showing 5 of 52). These functions will not be directly callable after loading.\n"
     ]
    },
    {
     "name": "stdout",
     "output_type": "stream",
     "text": [
      "INFO:tensorflow:Assets written to: Models_Save/SiDi_Save_Model_MobileNetV3Small\\assets\n"
     ]
    },
    {
     "name": "stderr",
     "output_type": "stream",
     "text": [
      "INFO:tensorflow:Assets written to: Models_Save/SiDi_Save_Model_MobileNetV3Small\\assets\n"
     ]
    }
   ],
   "source": [
    "model.save(\"Models_Save/SiDi_Save_Model_MobileNetV3Small\")"
   ]
  },
  {
   "cell_type": "markdown",
   "id": "2223d0f9",
   "metadata": {},
   "source": [
    "# GRADCAM"
   ]
  },
  {
   "cell_type": "code",
   "execution_count": 3,
   "id": "caa6f675",
   "metadata": {},
   "outputs": [],
   "source": [
    "# Carrega o modelo\n",
    "loadmodel = load_model(\"SiDi_Save_Model_MobileNetV3Small\")"
   ]
  },
  {
   "cell_type": "code",
   "execution_count": 19,
   "id": "4c2f1521",
   "metadata": {},
   "outputs": [
    {
     "name": "stdout",
     "output_type": "stream",
     "text": [
      "Model: \"model\"\n",
      "_________________________________________________________________\n",
      " Layer (type)                Output Shape              Param #   \n",
      "=================================================================\n",
      " input_2 (InputLayer)        [(None, 224, 224, 3)]     0         \n",
      "                                                                 \n",
      " densenet201 (Functional)    (None, 1920)              18321984  \n",
      "                                                                 \n",
      " dense (Dense)               (None, 256)               491776    \n",
      "                                                                 \n",
      " dropout (Dropout)           (None, 256)               0         \n",
      "                                                                 \n",
      " batch_normalization (BatchN  (None, 256)              1024      \n",
      " ormalization)                                                   \n",
      "                                                                 \n",
      " dense_1 (Dense)             (None, 128)               32896     \n",
      "                                                                 \n",
      " dropout_1 (Dropout)         (None, 128)               0         \n",
      "                                                                 \n",
      " batch_normalization_1 (Batc  (None, 128)              512       \n",
      " hNormalization)                                                 \n",
      "                                                                 \n",
      " dense_2 (Dense)             (None, 64)                8256      \n",
      "                                                                 \n",
      " dropout_2 (Dropout)         (None, 64)                0         \n",
      "                                                                 \n",
      " batch_normalization_2 (Batc  (None, 64)               256       \n",
      " hNormalization)                                                 \n",
      "                                                                 \n",
      " dense_3 (Dense)             (None, 32)                2080      \n",
      "                                                                 \n",
      " softmax_float32 (Dense)     (None, 2)                 66        \n",
      "                                                                 \n",
      "=================================================================\n",
      "Total params: 18,858,850\n",
      "Trainable params: 5,328,290\n",
      "Non-trainable params: 13,530,560\n",
      "_________________________________________________________________\n"
     ]
    }
   ],
   "source": [
    "loadmodel.summary()"
   ]
  },
  {
   "cell_type": "code",
   "execution_count": 20,
   "id": "4716ff91",
   "metadata": {},
   "outputs": [],
   "source": [
    "basemodel=loadmodel.layers[1]"
   ]
  },
  {
   "cell_type": "code",
   "execution_count": 21,
   "id": "5dc36772",
   "metadata": {},
   "outputs": [
    {
     "name": "stdout",
     "output_type": "stream",
     "text": [
      "conv5_block32_2_conv\n"
     ]
    }
   ],
   "source": [
    "last_conv_layer_name = list(filter(lambda x: isinstance(x, keras.layers.Conv2D), basemodel.layers))[-1].name\n",
    "print(last_conv_layer_name) "
   ]
  },
  {
   "cell_type": "code",
   "execution_count": 68,
   "id": "4e630c64",
   "metadata": {},
   "outputs": [],
   "source": [
    "def get_img_array(img_path, size):\n",
    "\n",
    "    # `img` is a PIL image of size 299x299\n",
    "    img = tf.keras.utils.load_img(img_path, target_size=size)\n",
    "    \n",
    "    # `array` is a float32 Numpy array of shape (299, 299, 3)\n",
    "    array = tf.keras.utils.img_to_array(img)\n",
    "    \n",
    "    # We add a dimension to transform our array into a \"batch\"\n",
    "    # of size (1, 299, 299, 3)\n",
    "    array = np.expand_dims(array, axis=0)\n",
    "    return array\n",
    "\n",
    "\n",
    "def make_gradcam_heatmap(img_array, model, last_conv_layer_name, pred_index=None):\n",
    "    # First, we create a model that maps the input image to the activations\n",
    "    # of the last conv layer as well as the output predictions\n",
    "    grad_model = tf.keras.models.Model([model.inputs], \n",
    "                                       [basemodel.get_layer(last_conv_layer_name).output, model.output])\n",
    "           \n",
    "\n",
    "    # Then, we compute the gradient of the top predicted class for our input image\n",
    "    # with respect to the activations of the last conv layer\n",
    "    with tf.GradientTape() as tape:\n",
    "        last_conv_layer_output, predictions = grad_model(img_array)\n",
    "        predictions = tf.squeeze(predictions)\n",
    "        if pred_index is None:\n",
    "            pred_index = tf.argmax(predictions)\n",
    "        class_channel = predictions[pred_index]\n",
    "\n",
    "    # This is the gradient of the output neuron (top predicted or chosen)\n",
    "    # with regard to the output feature map of the last conv layer\n",
    "    grads = tape.gradient(class_channel, last_conv_layer_output)\n",
    "\n",
    "    # This is a vector where each entry is the mean intensity of the gradient\n",
    "    # over a specific feature map channel\n",
    "    pooled_grads = tf.reduce_mean(grads, axis=(0, 1, 2))\n",
    "\n",
    "    # We multiply each channel in the feature map array\n",
    "    # by \"how important this channel is\" with regard to the top predicted class\n",
    "    # then sum all the channels to obtain the heatmap class activation\n",
    "    last_conv_layer_output = last_conv_layer_output[0]\n",
    "    heatmap = last_conv_layer_output @ pooled_grads[..., tf.newaxis]\n",
    "    heatmap = tf.squeeze(heatmap)\n",
    "\n",
    "    # For visualization purpose, we will also normalize the heatmap between 0 & 1\n",
    "    heatmap = tf.maximum(heatmap, 0) / tf.math.reduce_max(heatmap)\n",
    "    \n",
    "    return heatmap.numpy()"
   ]
  },
  {
   "cell_type": "code",
   "execution_count": 69,
   "id": "e0af695f",
   "metadata": {},
   "outputs": [],
   "source": [
    "# Prepare image\n",
    "def generate_heatmap(img_path):\n",
    "    img_array = get_img_array(img_path, size=(224,224))\n",
    "\n",
    "    # Remove last layer's softmax\n",
    "    # model.layers[-1].activation = None\n",
    "\n",
    "    # Print what the top predicted class is\n",
    "    preds = model.predict(img_array)\n",
    "    model_preds = tf.squeeze(tf.round(preds))\n",
    "    top_pred_index = tf.argmax(preds[0])\n",
    "\n",
    "    # Generate class activation heatmap\n",
    "    heatmap = make_gradcam_heatmap(img_array, model, last_conv_layer_name)\n",
    "    heat_test = heatmap.copy()\n",
    "\n",
    "    # Display heatmap\n",
    "#     print(heatmap)\n",
    "#     plt.matshow(heatmap)\n",
    "#     plt.show()\n",
    "    \n",
    "    return heatmap, class_names[top_pred_index], preds[0][top_pred_index]"
   ]
  },
  {
   "cell_type": "code",
   "execution_count": 70,
   "id": "282f1825",
   "metadata": {},
   "outputs": [],
   "source": [
    "def save_and_display_gradcam(img_path, heatmap, alpha=0.9, pred=None): #cam_path=\"saved/teste_1.jpg\"\n",
    "    \n",
    "    # Load the original image\n",
    "    img = tf.keras.utils.load_img(img_path)\n",
    "    img = tf.keras.utils.img_to_array(img)\n",
    "\n",
    "    # Rescale heatmap to a range 0-255\n",
    "    heatmap = np.uint8(255 * heatmap)\n",
    "\n",
    "    # Use jet colormap to colorize heatmap\n",
    "    if pred == 'malignant':\n",
    "        jet = cm.get_cmap(\"Reds\")\n",
    "    else:\n",
    "        jet = cm.get_cmap(\"Greens\")\n",
    "\n",
    "    # Use RGB values of the colormap\n",
    "    jet_colors = jet(np.arange(256))[:, :3]\n",
    "    jet_heatmap = jet_colors[heatmap]\n",
    "\n",
    "    # Create an image with RGB colorized heatmap\n",
    "    jet_heatmap = tf.keras.utils.array_to_img(jet_heatmap) #keras.preprocessing.image.array_to_img(jet_heatmap)\n",
    "    jet_heatmap = jet_heatmap.resize((img.shape[1], img.shape[0]))\n",
    "    jet_heatmap = np.array(jet_heatmap) # keras.preprocessing.image.img_to_array(jet_heatmap)\n",
    "    \n",
    "    # only for generating images\n",
    "    # Superimpose the heatmap on original image\n",
    "#     superimposed_img = jet_heatmap * alpha + img\n",
    "#     superimposed_img = tf.keras.utils.array_to_img(superimposed_img)\n",
    "\n",
    "    # Save the superimposed image\n",
    "#     superimposed_img.save(cam_path)\n",
    "    \n",
    "    # generating mask\n",
    "    jet_heatmap = cv.cvtColor(jet_heatmap, cv.COLOR_RGB2GRAY)\n",
    "    _, thresh = cv.threshold(jet_heatmap, 220, 255, cv.THRESH_BINARY_INV)\n",
    "\n",
    "\n",
    "    # Display Grad CAM\n",
    "#     plt.imshow(superimposed_img) # comentar quando for gerar o dataframe\n",
    "    \n",
    "    return thresh"
   ]
  },
  {
   "cell_type": "markdown",
   "id": "6cf8b8f5",
   "metadata": {},
   "source": [
    "# Gerar dataset"
   ]
  },
  {
   "cell_type": "code",
   "execution_count": 71,
   "id": "ba33c611",
   "metadata": {},
   "outputs": [],
   "source": [
    "def loading_json(filen='SiDi_BreCaHAD_test/groundTruth/'):\n",
    "    tumor_cells = {}\n",
    "    annot_points = {}\n",
    "    \n",
    "    for root, dirs, items in os.walk(filen):\n",
    "        for i, item in enumerate(items):\n",
    "            # Opening JSON file\n",
    "            f = open(filen+item)\n",
    "            # returns JSON object as \n",
    "            # a dictionary\n",
    "            data = json.load(f)\n",
    "            \n",
    "            # adding values to dictionary\n",
    "            tumor_cells[item.split('.')[0]] = len(data['tumor'])\n",
    "            \n",
    "            # creating list to get the annotations coordinates\n",
    "            x_y = []\n",
    "            for j, points in enumerate(data['tumor']):\n",
    "                # list to get the coordinates of one annotation\n",
    "                values_i_j = []\n",
    "                \n",
    "                # the values are multiplied by the image resolution\n",
    "                values_i_j.append(int(points['x']*1024))\n",
    "                values_i_j.append(int(points['y']*1360))\n",
    "                \n",
    "                # adding the coordinates to the list of one case\n",
    "                x_y.append(values_i_j)\n",
    "            \n",
    "            # adding corresponding annotations to the respective case\n",
    "            annot_points[item.split('.')[0]] = x_y\n",
    "\n",
    "            # Closing file\n",
    "            f.close()\n",
    "            \n",
    "    return tumor_cells, annot_points"
   ]
  },
  {
   "cell_type": "code",
   "execution_count": 72,
   "id": "eebb543f",
   "metadata": {},
   "outputs": [],
   "source": [
    "def getting_probs(filen='SiDi_BreCaHAD_test/malignant/'):\n",
    "    \n",
    "    # loading test images\n",
    "    probs = []\n",
    "    classes = []\n",
    "    masks = []\n",
    "    for root, dirs, items in os.walk(filen):\n",
    "        for item in items:\n",
    "            heatmap, class_, prob = generate_heatmap(filen+item)\n",
    "            mask = save_and_display_gradcam(filen+item, heatmap, class_)\n",
    "            probs.append(round(prob*100,2))\n",
    "            classes.append(class_)\n",
    "            masks.append(mask)\n",
    "            \n",
    "\n",
    "    return classes, masks, probs"
   ]
  },
  {
   "cell_type": "code",
   "execution_count": 73,
   "id": "e44e84ac",
   "metadata": {},
   "outputs": [],
   "source": [
    "def checking_points(annot_points, lst_heatmaps):\n",
    "    \n",
    "    # list to check the correct values\n",
    "    correct_values = []\n",
    "    i = 0\n",
    "    \n",
    "    for k, v in annot_points.items():\n",
    "        got_it_right = 0\n",
    "        mask_matrix = lst_heatmaps[i]\n",
    "        \n",
    "        for a, b in enumerate(v):\n",
    "            if mask_matrix[b[0]][b[1]] > 0:\n",
    "                got_it_right += 1\n",
    "        # adding the correct correspondences to the list      \n",
    "        correct_values.append(got_it_right)\n",
    "        i += 1\n",
    "        \n",
    "    return correct_values"
   ]
  },
  {
   "cell_type": "code",
   "execution_count": 74,
   "id": "d007dbcc",
   "metadata": {},
   "outputs": [],
   "source": [
    "def generating_dataset():\n",
    "    \n",
    "    tumor_cells, annot_points = loading_json()\n",
    "    lst_classes, lst_heatmaps, lst_probs = getting_probs()\n",
    "#     lst_tumors = interpretability(types=lst_classes, hmaps=lst_heatmaps)\n",
    "    lst_tumors = checking_points(annot_points, lst_heatmaps)\n",
    "    tumor_region = []\n",
    "    accuracy = []\n",
    "    \n",
    "    # tumors found\n",
    "    tumor_cells_values = list(tumor_cells.values())\n",
    "    \n",
    "    for i, qtd in enumerate(lst_tumors):\n",
    "        if lst_classes[i] == 'benign':\n",
    "            tumor_region.append(0)\n",
    "            accuracy.append()\n",
    "            \n",
    "        else:\n",
    "            tumor_region.append(round((qtd/tumor_cells_values[i])*100, 2))\n",
    "            \n",
    "    \n",
    "    dataframe = pd.DataFrame(data=[tumor_cells.keys(), tumor_cells.values(), lst_classes, lst_probs,\n",
    "                                  lst_tumors, tumor_region],\n",
    "                             index=['Case', 'Total Tumor Cells', 'Pred. Type', 'Probability (%)',\n",
    "                                     'Tumors Found' ,'Interpret. Region Accuracy (%)']).transpose()\n",
    "    \n",
    "    return dataframe"
   ]
  },
  {
   "cell_type": "code",
   "execution_count": 75,
   "id": "0f2a8b8e",
   "metadata": {},
   "outputs": [
    {
     "ename": "IndexError",
     "evalue": "list index out of range",
     "output_type": "error",
     "traceback": [
      "\u001b[1;31m---------------------------------------------------------------------------\u001b[0m",
      "\u001b[1;31mIndexError\u001b[0m                                Traceback (most recent call last)",
      "Input \u001b[1;32mIn [75]\u001b[0m, in \u001b[0;36m<cell line: 1>\u001b[1;34m()\u001b[0m\n\u001b[1;32m----> 1\u001b[0m df \u001b[38;5;241m=\u001b[39m \u001b[43mgenerating_dataset\u001b[49m\u001b[43m(\u001b[49m\u001b[43m)\u001b[49m\n",
      "Input \u001b[1;32mIn [74]\u001b[0m, in \u001b[0;36mgenerating_dataset\u001b[1;34m()\u001b[0m\n\u001b[0;32m      4\u001b[0m     lst_classes, lst_heatmaps, lst_probs \u001b[38;5;241m=\u001b[39m getting_probs()\n\u001b[0;32m      5\u001b[0m \u001b[38;5;66;03m#     lst_tumors = interpretability(types=lst_classes, hmaps=lst_heatmaps)\u001b[39;00m\n\u001b[1;32m----> 6\u001b[0m     lst_tumors \u001b[38;5;241m=\u001b[39m \u001b[43mchecking_points\u001b[49m\u001b[43m(\u001b[49m\u001b[43mannot_points\u001b[49m\u001b[43m,\u001b[49m\u001b[43m \u001b[49m\u001b[43mlst_heatmaps\u001b[49m\u001b[43m)\u001b[49m\n\u001b[0;32m      7\u001b[0m     tumor_region \u001b[38;5;241m=\u001b[39m []\n\u001b[0;32m      8\u001b[0m     accuracy \u001b[38;5;241m=\u001b[39m []\n",
      "Input \u001b[1;32mIn [73]\u001b[0m, in \u001b[0;36mchecking_points\u001b[1;34m(annot_points, lst_heatmaps)\u001b[0m\n\u001b[0;32m      7\u001b[0m \u001b[38;5;28;01mfor\u001b[39;00m k, v \u001b[38;5;129;01min\u001b[39;00m annot_points\u001b[38;5;241m.\u001b[39mitems():\n\u001b[0;32m      8\u001b[0m     got_it_right \u001b[38;5;241m=\u001b[39m \u001b[38;5;241m0\u001b[39m\n\u001b[1;32m----> 9\u001b[0m     mask_matrix \u001b[38;5;241m=\u001b[39m \u001b[43mlst_heatmaps\u001b[49m\u001b[43m[\u001b[49m\u001b[43mi\u001b[49m\u001b[43m]\u001b[49m\n\u001b[0;32m     11\u001b[0m     \u001b[38;5;28;01mfor\u001b[39;00m a, b \u001b[38;5;129;01min\u001b[39;00m \u001b[38;5;28menumerate\u001b[39m(v):\n\u001b[0;32m     12\u001b[0m         \u001b[38;5;28;01mif\u001b[39;00m mask_matrix[b[\u001b[38;5;241m0\u001b[39m]][b[\u001b[38;5;241m1\u001b[39m]] \u001b[38;5;241m>\u001b[39m \u001b[38;5;241m0\u001b[39m:\n",
      "\u001b[1;31mIndexError\u001b[0m: list index out of range"
     ]
    }
   ],
   "source": [
    "df = generating_dataset()"
   ]
  },
  {
   "cell_type": "code",
   "execution_count": null,
   "id": "91c1936b",
   "metadata": {},
   "outputs": [],
   "source": [
    "df.head(15)"
   ]
  },
  {
   "cell_type": "code",
   "execution_count": 35,
   "id": "8d96cb3e",
   "metadata": {},
   "outputs": [
    {
     "data": {
      "text/html": [
       "<div>\n",
       "<style scoped>\n",
       "    .dataframe tbody tr th:only-of-type {\n",
       "        vertical-align: middle;\n",
       "    }\n",
       "\n",
       "    .dataframe tbody tr th {\n",
       "        vertical-align: top;\n",
       "    }\n",
       "\n",
       "    .dataframe thead th {\n",
       "        text-align: right;\n",
       "    }\n",
       "</style>\n",
       "<table border=\"1\" class=\"dataframe\">\n",
       "  <thead>\n",
       "    <tr style=\"text-align: right;\">\n",
       "      <th></th>\n",
       "      <th>Case</th>\n",
       "      <th>Total Tumor Cells</th>\n",
       "      <th>Pred. Type</th>\n",
       "      <th>Probability (%)</th>\n",
       "      <th>Tumors Found</th>\n",
       "      <th>Interpret. Region Accuracy (%)</th>\n",
       "    </tr>\n",
       "  </thead>\n",
       "  <tbody>\n",
       "  </tbody>\n",
       "</table>\n",
       "</div>"
      ],
      "text/plain": [
       "Empty DataFrame\n",
       "Columns: [Case, Total Tumor Cells, Pred. Type, Probability (%), Tumors Found, Interpret. Region Accuracy (%)]\n",
       "Index: []"
      ]
     },
     "execution_count": 35,
     "metadata": {},
     "output_type": "execute_result"
    }
   ],
   "source": [
    "\n",
    "df[df['Interpret. Region Accuracy (%)'] > 90]"
   ]
  },
  {
   "cell_type": "code",
   "execution_count": 36,
   "id": "e6455015",
   "metadata": {},
   "outputs": [
    {
     "name": "stdout",
     "output_type": "stream",
     "text": [
      "Model Average Interpretability (%): 0.0 +/- nan\n"
     ]
    }
   ],
   "source": [
    "\n",
    "# Interpretability\n",
    "\n",
    "summ = df[df['Pred. Type'] == 'malignant']['Interpret. Region Accuracy (%)'].sum()\n",
    "stdd = df[df['Pred. Type'] == 'malignant']['Interpret. Region Accuracy (%)'].std()\n",
    "itp_model = round(summ/159, 2)\n",
    "std_deviation = round(stdd/159, 2)\n",
    "\n",
    "print(f'Model Average Interpretability (%): {itp_model} +/- {std_deviation}')"
   ]
  },
  {
   "cell_type": "code",
   "execution_count": null,
   "id": "dd1d4fbe",
   "metadata": {},
   "outputs": [],
   "source": []
  }
 ],
 "metadata": {
  "kernelspec": {
   "display_name": "Python 3 (ipykernel)",
   "language": "python",
   "name": "python3"
  },
  "language_info": {
   "codemirror_mode": {
    "name": "ipython",
    "version": 3
   },
   "file_extension": ".py",
   "mimetype": "text/x-python",
   "name": "python",
   "nbconvert_exporter": "python",
   "pygments_lexer": "ipython3",
   "version": "3.8.13"
  }
 },
 "nbformat": 4,
 "nbformat_minor": 5
}
