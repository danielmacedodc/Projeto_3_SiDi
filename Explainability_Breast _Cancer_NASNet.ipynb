{
 "cells": [
  {
   "cell_type": "markdown",
   "id": "3f85ff48",
   "metadata": {},
   "source": [
    "# **Breast Cancer - Comparative Analysis (Explainability with GradCAM) - NASNetLarge**\n",
    "\n",
    "Dataset (Train and Validation) link: https://web.inf.ufpr.br/vri/databases/breast-cancer-histopathological-database-breakhis/\n",
    "\n",
    "Annotated Dataset (Test) link: https://figshare.com/articles/dataset/BreCaHAD_A_Dataset_for_Breast_Cancer_Histopathological_Annotation_and_Diagnosis/7379186?file=13646369\n",
    "\n",
    "The following project will focus on finding the architecture (used with GradCAM) with the best explainability efficiency. The proposed architectures for this experiment are:\n",
    "* RegNetY\n",
    "* EfficientNetV2L\n",
    "* DenseNet\n",
    "* NasNet\n",
    "\n",
    "This notebook represents one of the four which will run experiments with images where the Visual Magnification factor is 400x - NASNetLarge.   "
   ]
  },
  {
   "cell_type": "code",
   "execution_count": 1,
   "id": "7623967f",
   "metadata": {},
   "outputs": [],
   "source": [
    "import numpy as np\n",
    "import pandas as pd\n",
    "import matplotlib.pyplot as plt\n",
    "\n",
    "import os\n",
    "import random\n",
    "from random import random, randint, seed\n",
    "import pickle\n",
    "import pathlib\n",
    "import warnings\n",
    "import platform\n",
    "\n",
    "import cv2\n",
    "import tensorflow as tf\n",
    "from tensorflow import keras\n",
    "import tensorflow.keras.backend as K\n",
    "from tensorflow.keras.applications import NASNetLarge\n",
    "from tensorflow.keras.optimizers import SGD, Adam\n",
    "from tensorflow.keras import layers\n",
    "from tensorflow.keras.models import Model\n",
    "from tensorflow.keras.layers import Input\n",
    "from tensorflow.keras.layers import Conv2D\n",
    "from tensorflow.keras.layers import Dense\n",
    "from tensorflow.keras.layers import Dropout\n",
    "from tensorflow.keras.layers import GlobalAveragePooling2D\n",
    "from tensorflow.keras.layers import BatchNormalization\n",
    "from tensorflow.keras.layers import MaxPooling2D\n",
    "from tensorflow.keras.layers import Lambda\n",
    "from tensorflow.keras.models import load_model\n",
    "from tensorflow.keras import Sequential\n",
    "from tensorflow.keras.preprocessing.image import ImageDataGenerator\n",
    "from sklearn.metrics import classification_report"
   ]
  },
  {
   "cell_type": "code",
   "execution_count": 2,
   "id": "30a7ac59",
   "metadata": {},
   "outputs": [
    {
     "name": "stdout",
     "output_type": "stream",
     "text": [
      "Python- Versão:  3.8.13\n",
      "TensorFLow - Versão:  2.9.0\n",
      "Dispositivo GPU padrão: /device:GPU:0\n",
      "Número de GPUs Disponíveis:  1\n"
     ]
    }
   ],
   "source": [
    "print(\"Python- Versão: \", platform.python_version())\n",
    "print(\"TensorFLow - Versão: \",tf.__version__)\n",
    "\n",
    "# Checar GPUs\n",
    "if not tf.test.gpu_device_name():\n",
    "    warnings.warn('GPU não encontrada.')\n",
    "else:\n",
    "    print(f'Dispositivo GPU padrão: {tf.test.gpu_device_name()}')\n",
    "    print(\"Número de GPUs Disponíveis: \", len(tf.config.list_physical_devices('GPU')))\n"
   ]
  },
  {
   "cell_type": "code",
   "execution_count": 3,
   "id": "b2b164b9",
   "metadata": {},
   "outputs": [
    {
     "name": "stdout",
     "output_type": "stream",
     "text": [
      "Existem 90 imagens em  BreakHis400x_Balanceado/Dataset\\test_set\\benign.\n",
      "Existem 90 imagens em  BreakHis400x_Balanceado/Dataset\\test_set\\malignant.\n",
      "Existem 1037 imagens em  BreakHis400x_Balanceado/Dataset\\train_set\\benign.\n",
      "Existem 1037 imagens em  BreakHis400x_Balanceado/Dataset\\train_set\\malignant.\n",
      "Existem 90 imagens em  BreakHis400x_Balanceado/Dataset\\validation_set\\benign.\n",
      "Existem 90 imagens em  BreakHis400x_Balanceado/Dataset\\validation_set\\malignant.\n"
     ]
    }
   ],
   "source": [
    "for dirpath, dirnames, filenames in os.walk('BreakHis400x_Balanceado/Dataset'):\n",
    "    if len(filenames)!=0:\n",
    "        print(f'Existem {len(filenames)} imagens em  {dirpath}.')\n"
   ]
  },
  {
   "cell_type": "code",
   "execution_count": 4,
   "id": "b9ebe3fe",
   "metadata": {},
   "outputs": [],
   "source": [
    "train_dir = 'BreakHis400x_Balanceado/Dataset/train_set/'\n",
    "val_dir = 'BreakHis400x_Balanceado/Dataset/validation_set/'\n",
    "test_dir = 'BreakHis400x_Balanceado/Dataset/test_set/'\n",
    "\n",
    "# Especificações para o treinamento da rede\n",
    "IMG_SHAPE = (331, 331, 3)\n",
    "BATCH_SIZE = 32\n",
    "EPOCHS = 20"
   ]
  },
  {
   "cell_type": "code",
   "execution_count": 5,
   "id": "37e2ebd5",
   "metadata": {},
   "outputs": [
    {
     "name": "stdout",
     "output_type": "stream",
     "text": [
      "Found 2074 images belonging to 2 classes.\n",
      "Found 180 images belonging to 2 classes.\n",
      "Found 180 images belonging to 2 classes.\n"
     ]
    }
   ],
   "source": [
    "train_datagen = ImageDataGenerator(rescale=1./255)\n",
    "valid_datagen = ImageDataGenerator(rescale=1./255)\n",
    "test_datagen = ImageDataGenerator(rescale=1./255)\n",
    "\n",
    "train_data = train_datagen.flow_from_directory(train_dir,\n",
    "                                               batch_size=BATCH_SIZE,  \n",
    "                                               target_size=(331, 331), \n",
    "                                               class_mode=\"binary\")\n",
    "\n",
    "val_data = valid_datagen.flow_from_directory(val_dir,\n",
    "                                               batch_size=BATCH_SIZE,  \n",
    "                                               target_size=(331, 331), \n",
    "                                               class_mode=\"binary\")\n",
    "\n",
    "test_data = test_datagen.flow_from_directory(test_dir,\n",
    "                                               batch_size=BATCH_SIZE,  \n",
    "                                               target_size=(331, 331), \n",
    "                                               class_mode=\"binary\")"
   ]
  },
  {
   "cell_type": "code",
   "execution_count": 6,
   "id": "e9e4ef89",
   "metadata": {},
   "outputs": [
    {
     "name": "stdout",
     "output_type": "stream",
     "text": [
      "Última camada do modelo base:  <keras.layers.pooling.global_max_pooling2d.GlobalMaxPooling2D object at 0x00000219448FB670>\n"
     ]
    }
   ],
   "source": [
    " # include_top=False retira a camada do topo, ou seja, a camada densa do modelo original\n",
    "basemodel = NASNetLarge(include_top=False,\n",
    "                                 weights='imagenet',\n",
    "                                 input_shape=IMG_SHAPE,\n",
    "                                 pooling='max')\n",
    "# Note que a última camada de convolução termina com a operação de GlobalMaxPooling2D(dependendo do modelo poderia ser a Flatten)\n",
    "# Assim, podemos adicionar a saída do baseModel diretamente na camada densa\n",
    "#basemodel.summary()\n",
    "print(\"Última camada do modelo base: \",basemodel.layers[-1])"
   ]
  },
  {
   "cell_type": "code",
   "execution_count": 7,
   "id": "7606a098",
   "metadata": {},
   "outputs": [],
   "source": [
    "# Criar a arquitetura do modelo para o Fine Tuning\n",
    "inputs = Input(shape=IMG_SHAPE)\n",
    "\n",
    "x = basemodel(inputs)\n",
    "\n",
    "x = Dense(256, activation=\"relu\")(x)\n",
    "x = Dropout(0.5)(x)\n",
    "'''\n",
    "x = BatchNormalization()(x)\n",
    "x = Dense(128, activation=\"relu\")(x)\n",
    "x = Dropout(0.3)(x)\n",
    "\n",
    "x = BatchNormalization()(x)\n",
    "x = Dense(64, activation=\"relu\")(x)\n",
    "x = Dropout(0.2)(x)\n",
    "\n",
    "x = BatchNormalization()(x)\n",
    "x = Dense(32, activation=\"relu\")(x)\n",
    "x = Dropout(0.2)(x)\n",
    "'''\n",
    "\n",
    "outputs = Dense(1, activation=\"sigmoid\")(x)\n",
    "\n",
    "model = Model(inputs, outputs)\n",
    "\n"
   ]
  },
  {
   "cell_type": "markdown",
   "id": "a1268af2",
   "metadata": {},
   "source": [
    "## Fine Tuning - Fase 1 (warm up) -> treina apenas a camada densa"
   ]
  },
  {
   "cell_type": "code",
   "execution_count": 8,
   "id": "fa58a144",
   "metadata": {},
   "outputs": [],
   "source": [
    "# Congela as camadas do modelo base (as camadas de convolução não serão treinadas novamente)\n",
    "for layer in basemodel.layers:\n",
    "    layer.trainable = False  "
   ]
  },
  {
   "cell_type": "code",
   "execution_count": 9,
   "id": "e0bb1d43",
   "metadata": {},
   "outputs": [],
   "source": [
    "base_learning_rate = 0.0001\n",
    "opt = Adam(learning_rate=base_learning_rate)\n",
    "model.compile(loss=\"binary_crossentropy\", optimizer=opt, metrics=[\"accuracy\"])"
   ]
  },
  {
   "cell_type": "code",
   "execution_count": 10,
   "id": "274eb4d3",
   "metadata": {},
   "outputs": [
    {
     "name": "stdout",
     "output_type": "stream",
     "text": [
      "Epoch 1/10\n",
      "65/65 [==============================] - 68s 736ms/step - loss: 0.8766 - accuracy: 0.7594 - val_loss: 1.0195 - val_accuracy: 0.5889\n",
      "Epoch 2/10\n",
      "65/65 [==============================] - 41s 627ms/step - loss: 0.4254 - accuracy: 0.8380 - val_loss: 0.7444 - val_accuracy: 0.6444\n",
      "Epoch 3/10\n",
      "65/65 [==============================] - 41s 627ms/step - loss: 0.2920 - accuracy: 0.8674 - val_loss: 0.5837 - val_accuracy: 0.6944\n",
      "Epoch 4/10\n",
      "65/65 [==============================] - 41s 629ms/step - loss: 0.2590 - accuracy: 0.8877 - val_loss: 0.5066 - val_accuracy: 0.7556\n",
      "Epoch 5/10\n",
      "65/65 [==============================] - 41s 631ms/step - loss: 0.2256 - accuracy: 0.9002 - val_loss: 0.5572 - val_accuracy: 0.7333\n",
      "Epoch 6/10\n",
      "65/65 [==============================] - 41s 632ms/step - loss: 0.1933 - accuracy: 0.9185 - val_loss: 0.5760 - val_accuracy: 0.7333\n",
      "Epoch 7/10\n",
      "65/65 [==============================] - 41s 633ms/step - loss: 0.1747 - accuracy: 0.9277 - val_loss: 0.6341 - val_accuracy: 0.7000\n",
      "Epoch 8/10\n",
      "65/65 [==============================] - 42s 642ms/step - loss: 0.1568 - accuracy: 0.9402 - val_loss: 0.5156 - val_accuracy: 0.7611\n",
      "Epoch 9/10\n",
      "65/65 [==============================] - 42s 637ms/step - loss: 0.1406 - accuracy: 0.9436 - val_loss: 0.6832 - val_accuracy: 0.6889\n",
      "Epoch 10/10\n",
      "65/65 [==============================] - 42s 637ms/step - loss: 0.1279 - accuracy: 0.9523 - val_loss: 0.5377 - val_accuracy: 0.7556\n"
     ]
    }
   ],
   "source": [
    "# Fase 1 - treina apenas com algumas épocas (50% do total)\n",
    "initial_epochs = int(EPOCHS*0.5)\n",
    "history = model.fit(train_data,\n",
    "                    epochs=initial_epochs,\n",
    "                    validation_data=val_data)"
   ]
  },
  {
   "cell_type": "code",
   "execution_count": 11,
   "id": "28fb10bc",
   "metadata": {},
   "outputs": [
    {
     "data": {
      "image/png": "[encoded data removed]",
      "text/plain": [
       "<Figure size 576x576 with 2 Axes>"
      ]
     },
     "metadata": {
      "needs_background": "light"
     },
     "output_type": "display_data"
    }
   ],
   "source": [
    "acc = history.history['accuracy']\n",
    "val_acc = history.history['val_accuracy']\n",
    "\n",
    "loss = history.history['loss']\n",
    "val_loss = history.history['val_loss']\n",
    "\n",
    "plt.figure(figsize=(8, 8))\n",
    "plt.subplot(2, 1, 1)\n",
    "plt.plot(acc, label='Training Accuracy')\n",
    "plt.plot(val_acc, label='Validation Accuracy')\n",
    "plt.legend(loc='lower right')\n",
    "plt.ylabel('Accuracy')\n",
    "plt.ylim([min(plt.ylim()),1])\n",
    "plt.title('Training and Validation Accuracy')\n",
    "\n",
    "plt.subplot(2, 1, 2)\n",
    "plt.plot(loss, label='Training Loss')\n",
    "plt.plot(val_loss, label='Validation Loss')\n",
    "plt.legend(loc='upper right')\n",
    "plt.ylabel('Cross Entropy')\n",
    "plt.ylim([0,1.0])\n",
    "plt.title('Training and Validation Loss')\n",
    "plt.xlabel('epoch')\n",
    "plt.show()"
   ]
  },
  {
   "cell_type": "markdown",
   "id": "9db89e4d",
   "metadata": {},
   "source": [
    "## Fine Tuning - Fase 2 -> treina todo o modelo do fine tuning - descongela as camadas de convolução"
   ]
  },
  {
   "cell_type": "code",
   "execution_count": 12,
   "id": "ec494850",
   "metadata": {},
   "outputs": [
    {
     "name": "stdout",
     "output_type": "stream",
     "text": [
      "Número de camadas do modelo base:  1040\n"
     ]
    }
   ],
   "source": [
    "print(\"Número de camadas do modelo base: \", len(basemodel.layers))"
   ]
  },
  {
   "cell_type": "code",
   "execution_count": 13,
   "id": "a0301315",
   "metadata": {},
   "outputs": [],
   "source": [
    "# Descongelar as 20% camadas finais e que não seja do tipo BatchNormalization do modelo base\n",
    "# Note que vpcê pode adicionar mais camadas se o modelo não for muito grande\n",
    "count = 0\n",
    "for layer in basemodel.layers[-int(len(basemodel.layers)*0.2):]:\n",
    "    if not isinstance(layer, layers.BatchNormalization):\n",
    "        layer.trainable = True"
   ]
  },
  {
   "cell_type": "code",
   "execution_count": 14,
   "id": "ba855c0d",
   "metadata": {},
   "outputs": [],
   "source": [
    "# É necessário diminuir a base_learning_rate para que o modelo não tenha convergência muito rápida\n",
    "# pois se trata d eum modelo grande\n",
    "opt = Adam(learning_rate=base_learning_rate/10)\n",
    "model.compile(loss=\"binary_crossentropy\", optimizer=opt, metrics=[\"accuracy\"])"
   ]
  },
  {
   "cell_type": "code",
   "execution_count": 15,
   "id": "788b3350",
   "metadata": {},
   "outputs": [
    {
     "name": "stdout",
     "output_type": "stream",
     "text": [
      "Epoch 10/20\n",
      "65/65 [==============================] - 70s 870ms/step - loss: 0.0917 - accuracy: 0.9682 - val_loss: 0.5273 - val_accuracy: 0.7667\n",
      "Epoch 11/20\n",
      "65/65 [==============================] - 53s 805ms/step - loss: 0.0543 - accuracy: 0.9836 - val_loss: 0.5179 - val_accuracy: 0.7778\n",
      "Epoch 12/20\n",
      "65/65 [==============================] - 53s 806ms/step - loss: 0.0381 - accuracy: 0.9928 - val_loss: 0.6095 - val_accuracy: 0.7556\n",
      "Epoch 13/20\n",
      "65/65 [==============================] - 53s 808ms/step - loss: 0.0239 - accuracy: 0.9966 - val_loss: 0.5866 - val_accuracy: 0.7722\n",
      "Epoch 14/20\n",
      "65/65 [==============================] - 53s 807ms/step - loss: 0.0181 - accuracy: 0.9971 - val_loss: 0.6000 - val_accuracy: 0.7556\n",
      "Epoch 15/20\n",
      "65/65 [==============================] - 53s 808ms/step - loss: 0.0130 - accuracy: 0.9976 - val_loss: 0.5426 - val_accuracy: 0.8000\n",
      "Epoch 16/20\n",
      "65/65 [==============================] - 53s 811ms/step - loss: 0.0113 - accuracy: 0.9976 - val_loss: 0.5934 - val_accuracy: 0.7778\n",
      "Epoch 17/20\n",
      "65/65 [==============================] - 53s 811ms/step - loss: 0.0089 - accuracy: 0.9990 - val_loss: 0.6104 - val_accuracy: 0.7722\n",
      "Epoch 18/20\n",
      "65/65 [==============================] - 53s 810ms/step - loss: 0.0051 - accuracy: 1.0000 - val_loss: 0.6809 - val_accuracy: 0.7722\n",
      "Epoch 19/20\n",
      "65/65 [==============================] - 53s 812ms/step - loss: 0.0056 - accuracy: 0.9990 - val_loss: 0.6430 - val_accuracy: 0.7833\n",
      "Epoch 20/20\n",
      "65/65 [==============================] - 53s 811ms/step - loss: 0.0047 - accuracy: 0.9995 - val_loss: 0.6930 - val_accuracy: 0.7667\n"
     ]
    }
   ],
   "source": [
    "# Fase 2 - treina apenas com a quantidade de épocas que faltam (80% finais)\n",
    "# Note que iniciará de initial_epoch=history.epoch[-1]\n",
    "history_fine = model.fit(train_data,\n",
    "                    epochs=EPOCHS,\n",
    "                    initial_epoch=history.epoch[-1],\n",
    "                    validation_data=val_data)"
   ]
  },
  {
   "cell_type": "code",
   "execution_count": 20,
   "id": "87057e53",
   "metadata": {},
   "outputs": [
    {
     "data": {
      "image/png": "[encoded data removed]",
      "text/plain": [
       "<Figure size 576x576 with 2 Axes>"
      ]
     },
     "metadata": {
      "needs_background": "light"
     },
     "output_type": "display_data"
    }
   ],
   "source": [
    "acc += history_fine.history['accuracy']\n",
    "val_acc += history_fine.history['val_accuracy']\n",
    "\n",
    "loss += history_fine.history['loss']\n",
    "val_loss += history_fine.history['val_loss']\n",
    "\n",
    "plt.figure(figsize=(8, 8))\n",
    "plt.subplot(2, 1, 1)\n",
    "plt.plot(acc, label='Training Accuracy')\n",
    "plt.plot(val_acc, label='Validation Accuracy')\n",
    "plt.ylim([0.4, 1.1])\n",
    "plt.plot([initial_epochs-1,initial_epochs-1],\n",
    "          plt.ylim(), label='Start Fine Tuning')\n",
    "plt.legend(loc='lower right')\n",
    "plt.title('Training and Validation Accuracy')\n",
    "\n",
    "plt.subplot(2, 1, 2)\n",
    "plt.plot(loss, label='Training Loss')\n",
    "plt.plot(val_loss, label='Validation Loss')\n",
    "plt.ylim([0, 1.0])\n",
    "plt.plot([initial_epochs-1,initial_epochs-1],\n",
    "         plt.ylim(), label='Start Fine Tuning')\n",
    "plt.legend(loc='upper right')\n",
    "plt.title('Training and Validation Loss')\n",
    "plt.xlabel('epoch')\n",
    "plt.show()"
   ]
  },
  {
   "cell_type": "code",
   "execution_count": 17,
   "id": "708ff16c",
   "metadata": {},
   "outputs": [
    {
     "name": "stdout",
     "output_type": "stream",
     "text": [
      "6/6 [==============================] - 4s 538ms/step - loss: 0.7020 - accuracy: 0.8111\n"
     ]
    },
    {
     "data": {
      "text/plain": [
       "[0.701958954334259, 0.8111110925674438]"
      ]
     },
     "execution_count": 17,
     "metadata": {},
     "output_type": "execute_result"
    }
   ],
   "source": [
    "# Avaliação usando os dados de testes\n",
    "model.evaluate(test_data)"
   ]
  },
  {
   "cell_type": "code",
   "execution_count": 18,
   "id": "94256750",
   "metadata": {},
   "outputs": [
    {
     "name": "stderr",
     "output_type": "stream",
     "text": [
      "WARNING:absl:Found untraced functions such as _jit_compiled_convolution_op, _jit_compiled_convolution_op, _jit_compiled_convolution_op, _jit_compiled_convolution_op, _jit_compiled_convolution_op while saving (showing 5 of 268). These functions will not be directly callable after loading.\n"
     ]
    },
    {
     "name": "stdout",
     "output_type": "stream",
     "text": [
      "INFO:tensorflow:Assets written to: Save_Model_NASNetLarge\\assets\n"
     ]
    },
    {
     "name": "stderr",
     "output_type": "stream",
     "text": [
      "INFO:tensorflow:Assets written to: Save_Model_NASNetLarge\\assets\n"
     ]
    }
   ],
   "source": [
    "model.save(\"Save_Model_NASNetLarge\")"
   ]
  },
  {
   "cell_type": "code",
   "execution_count": null,
   "id": "62452104",
   "metadata": {},
   "outputs": [],
   "source": []
  },
  {
   "cell_type": "code",
   "execution_count": null,
   "id": "8f79a389",
   "metadata": {},
   "outputs": [],
   "source": []
  }
 ],
 "metadata": {
  "kernelspec": {
   "display_name": "Python 3 (ipykernel)",
   "language": "python",
   "name": "python3"
  },
  "language_info": {
   "codemirror_mode": {
    "name": "ipython",
    "version": 3
   },
   "file_extension": ".py",
   "mimetype": "text/x-python",
   "name": "python",
   "nbconvert_exporter": "python",
   "pygments_lexer": "ipython3",
   "version": "3.8.13"
  }
 },
 "nbformat": 4,
 "nbformat_minor": 5
}
